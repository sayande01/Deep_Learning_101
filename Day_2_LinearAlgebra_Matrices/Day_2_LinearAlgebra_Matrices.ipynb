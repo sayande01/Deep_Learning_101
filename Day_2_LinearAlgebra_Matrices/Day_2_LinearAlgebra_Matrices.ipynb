{
  "nbformat": 4,
  "nbformat_minor": 0,
  "metadata": {
    "colab": {
      "provenance": []
    },
    "kernelspec": {
      "name": "python3",
      "display_name": "Python 3"
    },
    "language_info": {
      "name": "python"
    }
  },
  "cells": [
    {
      "cell_type": "markdown",
      "source": [
        "# **Deep Learning Tutorial Course**\n",
        "## **Day 2: Linear Algebra and Matrices**\n",
        "\n",
        "### **Overview**\n",
        "Linear Algebra is the foundation of many deep learning algorithms. Understanding matrix operations, tensors, and their applications in forward and backward propagation is essential for building and optimizing neural networks.\n",
        "\n",
        "---\n",
        "\n",
        "### **What You Will Learn**\n",
        "1. Basics of tensors\n",
        "2. Matrix operations (dot product, transpose, determinant)\n",
        "3. Importance of tensors in forward and backpropagation\n",
        "4. Implementing matrix multiplication and basic tensor operations using NumPy\n",
        "\n",
        "---\n",
        "\n",
        "### **Why Linear Algebra is Important in Deep Learning**\n",
        "- **Vectorized Operations**: Efficient computation using GPUs requires operations on tensors (generalized matrices).\n",
        "- **Representation of Data**: Images, texts, and even sounds can be represented as matrices or tensors.\n",
        "- **Optimization**: Gradients, which are used in backpropagation, are computed using matrix operations.\n",
        "\n",
        "---\n",
        "\n",
        "## **1. Basics of Tensors**\n",
        "Tensors are generalizations of matrices to higher dimensions:\n",
        "- A **scalar** is a 0D tensor (single number).\n",
        "- A **vector** is a 1D tensor (array of numbers).\n",
        "- A **matrix** is a 2D tensor (table of numbers).\n",
        "- Higher-dimensional tensors (3D, 4D, etc.) are used for complex data like images and video.\n"
      ],
      "metadata": {
        "id": "gMJJm-JXp3aR"
      }
    },
    {
      "cell_type": "code",
      "source": [
        "import numpy as np\n",
        "\n",
        "# Scalars\n",
        "scalar = 5\n",
        "print(f\"Scalar: {scalar}\")\n",
        "\n",
        "# Vectors\n",
        "vector = np.array([1, 2, 3])\n",
        "print(f\"Vector: {vector}\")\n",
        "\n",
        "# Matrices\n",
        "matrix = np.array([[1, 2], [3, 4]])\n",
        "print(f\"Matrix:\\n{matrix}\")\n",
        "\n",
        "# 3D Tensor\n",
        "tensor_3d = np.array([[[1, 2], [3, 4]], [[5, 6], [7, 8]]])\n",
        "print(f\"3D Tensor:\\n{tensor_3d}\")"
      ],
      "metadata": {
        "colab": {
          "base_uri": "https://localhost:8080/"
        },
        "id": "A5enF0iYp58l",
        "outputId": "eb203ece-bee9-4ec4-901f-911684f22244"
      },
      "execution_count": 1,
      "outputs": [
        {
          "output_type": "stream",
          "name": "stdout",
          "text": [
            "Scalar: 5\n",
            "Vector: [1 2 3]\n",
            "Matrix:\n",
            "[[1 2]\n",
            " [3 4]]\n",
            "3D Tensor:\n",
            "[[[1 2]\n",
            "  [3 4]]\n",
            "\n",
            " [[5 6]\n",
            "  [7 8]]]\n"
          ]
        }
      ]
    },
    {
      "cell_type": "markdown",
      "source": [
        "a) Transpose of a Matrix\n",
        "\n",
        "The transpose of a matrix flips its rows and columns."
      ],
      "metadata": {
        "id": "QnWs_wp0qLiz"
      }
    },
    {
      "cell_type": "code",
      "source": [
        "matrix = np.array([[1, 2], [3, 4]])\n",
        "transpose = matrix.T\n",
        "print(f\"Original Matrix:\\n{matrix}\")\n",
        "print(f\"Transpose:\\n{transpose}\")\n"
      ],
      "metadata": {
        "colab": {
          "base_uri": "https://localhost:8080/"
        },
        "id": "WvKIYCdMp72y",
        "outputId": "7f100c89-1592-434f-f85f-c50297808aa4"
      },
      "execution_count": 2,
      "outputs": [
        {
          "output_type": "stream",
          "name": "stdout",
          "text": [
            "Original Matrix:\n",
            "[[1 2]\n",
            " [3 4]]\n",
            "Transpose:\n",
            "[[1 3]\n",
            " [2 4]]\n"
          ]
        }
      ]
    },
    {
      "cell_type": "markdown",
      "source": [
        "b) Dot Product\n",
        "\n",
        "The dot product is a key operation in deep learning, used in operations like calculating weights and biases."
      ],
      "metadata": {
        "id": "WSaBwVGrqjaK"
      }
    },
    {
      "cell_type": "code",
      "source": [
        "matrix_a = np.array([[1, 2], [3, 4]])\n",
        "matrix_b = np.array([[5, 6], [7, 8]])\n",
        "dot_product = np.dot(matrix_a, matrix_b)\n",
        "print(f\"Matrix A:\\n{matrix_a}\")\n",
        "print(f\"Matrix B:\\n{matrix_b}\")\n",
        "print(f\"Dot Product:\\n{dot_product}\")\n"
      ],
      "metadata": {
        "colab": {
          "base_uri": "https://localhost:8080/"
        },
        "id": "Yn_HzddHqcmM",
        "outputId": "a4d6fcf6-abd1-4e15-8526-de01f276f593"
      },
      "execution_count": 3,
      "outputs": [
        {
          "output_type": "stream",
          "name": "stdout",
          "text": [
            "Matrix A:\n",
            "[[1 2]\n",
            " [3 4]]\n",
            "Matrix B:\n",
            "[[5 6]\n",
            " [7 8]]\n",
            "Dot Product:\n",
            "[[19 22]\n",
            " [43 50]]\n"
          ]
        }
      ]
    },
    {
      "cell_type": "markdown",
      "source": [
        "c) Determinant of a Matrix\n",
        "\n",
        "The determinant is useful in checking if a matrix is invertible."
      ],
      "metadata": {
        "id": "5HioSyvQq74L"
      }
    },
    {
      "cell_type": "code",
      "source": [
        "from numpy.linalg import det\n",
        "\n",
        "matrix = np.array([[1, 2], [3, 4]])\n",
        "determinant = det(matrix)\n",
        "print(f\"Matrix:\\n{matrix}\")\n",
        "print(f\"Determinant: {determinant}\")\n"
      ],
      "metadata": {
        "colab": {
          "base_uri": "https://localhost:8080/"
        },
        "id": "YTF6ACXcqmJT",
        "outputId": "5f0b2beb-9246-4284-d0d9-85b18eefe8ea"
      },
      "execution_count": 4,
      "outputs": [
        {
          "output_type": "stream",
          "name": "stdout",
          "text": [
            "Matrix:\n",
            "[[1 2]\n",
            " [3 4]]\n",
            "Determinant: -2.0000000000000004\n"
          ]
        }
      ]
    },
    {
      "cell_type": "markdown",
      "source": [
        "3. Applications in Deep Learning\n",
        "\n",
        "- Forward Propagation\n",
        "Activations are computed using weighted sums of inputs.\n",
        "Weighted sums are represented as dot products of matrices.\n",
        "- Backpropagation\n",
        "Gradients are computed using matrix derivatives.\n",
        "\n",
        "Example: Forward Propagation in a Simple Neural Network"
      ],
      "metadata": {
        "id": "ckGMh-QorDrX"
      }
    },
    {
      "cell_type": "code",
      "source": [
        "# Input features\n",
        "inputs = np.array([1, 2])\n",
        "\n",
        "# Weights for 2 neurons\n",
        "weights = np.array([[0.1, 0.2], [0.3, 0.4]])\n",
        "\n",
        "# Biases\n",
        "biases = np.array([0.5, 0.6])\n",
        "\n",
        "# Weighted sum (dot product)\n",
        "weighted_sum = np.dot(inputs, weights) + biases\n",
        "print(f\"Inputs: {inputs}\")\n",
        "print(f\"Weights:\\n{weights}\")\n",
        "print(f\"Biases: {biases}\")\n",
        "print(f\"Weighted Sum (Forward Propagation): {weighted_sum}\")\n"
      ],
      "metadata": {
        "colab": {
          "base_uri": "https://localhost:8080/"
        },
        "id": "UeaZiIrkq_dd",
        "outputId": "381974a3-e972-4095-a0e1-d9baeb8b5697"
      },
      "execution_count": 5,
      "outputs": [
        {
          "output_type": "stream",
          "name": "stdout",
          "text": [
            "Inputs: [1 2]\n",
            "Weights:\n",
            "[[0.1 0.2]\n",
            " [0.3 0.4]]\n",
            "Biases: [0.5 0.6]\n",
            "Weighted Sum (Forward Propagation): [1.2 1.6]\n"
          ]
        }
      ]
    },
    {
      "cell_type": "markdown",
      "source": [
        "4. Implementing Basic Tensor Operations with NumPy\n",
        "\n",
        "Element-wise Operations"
      ],
      "metadata": {
        "id": "FRGxOinUrOFq"
      }
    },
    {
      "cell_type": "code",
      "source": [
        "matrix = np.array([[1, 2], [3, 4]])\n",
        "print(f\"Original Matrix:\\n{matrix}\")\n",
        "print(f\"Matrix + 1:\\n{matrix + 1}\")\n",
        "print(f\"Matrix * 2:\\n{matrix * 2}\")\n"
      ],
      "metadata": {
        "colab": {
          "base_uri": "https://localhost:8080/"
        },
        "id": "infBSiXorLmq",
        "outputId": "13b92c82-b133-402e-c0bb-060c57df3213"
      },
      "execution_count": 6,
      "outputs": [
        {
          "output_type": "stream",
          "name": "stdout",
          "text": [
            "Original Matrix:\n",
            "[[1 2]\n",
            " [3 4]]\n",
            "Matrix + 1:\n",
            "[[2 3]\n",
            " [4 5]]\n",
            "Matrix * 2:\n",
            "[[2 4]\n",
            " [6 8]]\n"
          ]
        }
      ]
    },
    {
      "cell_type": "markdown",
      "source": [
        "Broadcasting\n",
        "\n",
        "Broadcasting is a powerful feature of NumPy that enables arithmetic operations on tensors of different shapes."
      ],
      "metadata": {
        "id": "TR_eC6eJrXtT"
      }
    },
    {
      "cell_type": "code",
      "source": [
        "matrix = np.array([[1, 2], [3, 4]])\n",
        "vector = np.array([1, 2])\n",
        "broadcasted_sum = matrix + vector\n",
        "print(f\"Matrix:\\n{matrix}\")\n",
        "print(f\"Vector: {vector}\")\n",
        "print(f\"Broadcasted Sum:\\n{broadcasted_sum}\")\n"
      ],
      "metadata": {
        "colab": {
          "base_uri": "https://localhost:8080/"
        },
        "id": "nO1fIZsBrSMM",
        "outputId": "7208e0d0-9ab3-4a47-c157-35622ab0cdf0"
      },
      "execution_count": 7,
      "outputs": [
        {
          "output_type": "stream",
          "name": "stdout",
          "text": [
            "Matrix:\n",
            "[[1 2]\n",
            " [3 4]]\n",
            "Vector: [1 2]\n",
            "Broadcasted Sum:\n",
            "[[2 4]\n",
            " [4 6]]\n"
          ]
        }
      ]
    },
    {
      "cell_type": "markdown",
      "source": [
        "5. Advantages and Disadvantages\n",
        "- Advantages\n",
        "\n",
        "Vectorization: Matrix operations speed up computations, especially on GPUs.\n",
        "\n",
        "Representation: Any data type can be converted into tensors.\n",
        "- Disadvantages\n",
        "\n",
        "Complexity: Requires a strong foundation in linear algebra.\n",
        "\n",
        "Debugging: Errors in dimensions (shapes) can be hard to debug.\n"
      ],
      "metadata": {
        "id": "HIJCQAD_riIE"
      }
    },
    {
      "cell_type": "markdown",
      "source": [
        "Create a 2D matrix and calculate its transpose.\n",
        "\n",
        "Multiply two matrices of size (2x3) and (3x2)."
      ],
      "metadata": {
        "id": "TeDzT8Owr3JE"
      }
    },
    {
      "cell_type": "code",
      "source": [
        "# Example: Matrix Multiplication\n",
        "matrix_a = np.random.randint(1, 10, size=(2, 3))\n",
        "matrix_b = np.random.randint(1, 10, size=(3, 2))\n",
        "result = np.dot(matrix_a, matrix_b)\n",
        "print(f\"Matrix A:\\n{matrix_a}\")\n",
        "print(f\"Matrix B:\\n{matrix_b}\")\n",
        "print(f\"Result of Multiplication:\\n{result}\")\n"
      ],
      "metadata": {
        "colab": {
          "base_uri": "https://localhost:8080/"
        },
        "id": "ZkNs0OKnrbXi",
        "outputId": "ec8ea6ee-9032-4120-f2d8-67418d05250a"
      },
      "execution_count": 8,
      "outputs": [
        {
          "output_type": "stream",
          "name": "stdout",
          "text": [
            "Matrix A:\n",
            "[[8 8 3]\n",
            " [2 2 5]]\n",
            "Matrix B:\n",
            "[[1 5]\n",
            " [5 1]\n",
            " [1 1]]\n",
            "Result of Multiplication:\n",
            "[[51 51]\n",
            " [17 17]]\n"
          ]
        }
      ]
    },
    {
      "cell_type": "code",
      "source": [],
      "metadata": {
        "id": "SvOkUKivr6nm"
      },
      "execution_count": null,
      "outputs": []
    }
  ]
}