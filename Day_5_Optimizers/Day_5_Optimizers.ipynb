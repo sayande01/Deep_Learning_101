{
  "nbformat": 4,
  "nbformat_minor": 0,
  "metadata": {
    "colab": {
      "provenance": []
    },
    "kernelspec": {
      "name": "python3",
      "display_name": "Python 3"
    },
    "language_info": {
      "name": "python"
    }
  },
  "cells": [
    {
      "cell_type": "markdown",
      "source": [
        "## **Optimization Algorithms: A Comprehensive Guide**\n"
      ],
      "metadata": {
        "id": "EEuAcqDvttY3"
      }
    },
    {
      "cell_type": "markdown",
      "source": [
        "# **1. Introduction**"
      ],
      "metadata": {
        "id": "EzrzFcFzunZS"
      }
    },
    {
      "cell_type": "markdown",
      "source": [
        "- **Concept**: Optimization algorithms are used to minimize or maximize a function by adjusting model parameters iteratively. In machine learning, optimizers update the model's weights (parameters) to reduce the error or cost function.\n",
        "- **Goal**: The primary goal of optimization is to find the optimal parameters (weights) that minimize the cost function.\n"
      ],
      "metadata": {
        "id": "FdZSEuq0ujqS"
      }
    },
    {
      "cell_type": "markdown",
      "source": [
        "# **2. Gradient Descent (GD)**"
      ],
      "metadata": {
        "id": "LGbKVSv1up2V"
      }
    },
    {
      "cell_type": "markdown",
      "source": [
        "Gradient Descent is the most commonly used optimization algorithm. It aims to find the minimum of a function by iteratively moving towards the negative gradient (downhill direction).\n"
      ],
      "metadata": {
        "id": "JvCNWTk4ur9g"
      }
    },
    {
      "cell_type": "markdown",
      "source": [
        "The update rule for Gradient Descent is:\n",
        "\n",
        "theta = theta - eta * (gradient of J(theta))\n",
        "\n",
        "Where:\n",
        "- theta represents the model parameters (weights)\n",
        "- eta is the learning rate (controls the step size)\n",
        "- gradient of J(theta) is the gradient of the cost function J(theta) with respect to theta\n"
      ],
      "metadata": {
        "id": "hlgjvuF4u8wP"
      }
    },
    {
      "cell_type": "markdown",
      "source": [
        "- **theta** are the weights (model parameters) we want to optimize.\n",
        "- **eta** (learning rate) determines how big each step should be during the update.\n",
        "- **gradient of J(theta)** tells us the direction and magnitude of the steepest ascent of the cost function. By subtracting this, we move towards the minimum of the cost function.\n"
      ],
      "metadata": {
        "id": "8C3OzzoRvAZu"
      }
    },
    {
      "cell_type": "markdown",
      "source": [
        "# **Code Implementation: Gradient Descent**"
      ],
      "metadata": {
        "id": "ZwePHi2LvOZV"
      }
    },
    {
      "cell_type": "code",
      "source": [
        "import numpy as np\n",
        "\n",
        "# Simple implementation of GD\n",
        "def gradient_descent(X, y, theta, lr, epochs):\n",
        "    m = len(y)\n",
        "    history = []  # To store the loss values\n",
        "    for epoch in range(epochs):\n",
        "        predictions = X.dot(theta)\n",
        "        gradients = (1/m) * X.T.dot(predictions - y)\n",
        "        theta -= lr * gradients\n",
        "        loss = (1/(2*m)) * np.sum((predictions - y)**2)\n",
        "        history.append(loss)\n",
        "    return theta, history\n"
      ],
      "metadata": {
        "id": "02876PZkuhsZ"
      },
      "execution_count": 1,
      "outputs": []
    },
    {
      "cell_type": "markdown",
      "source": [
        "- **Explanation**:\n",
        "  - `X.dot(theta)` calculates the model's prediction based on the current parameter values.\n",
        "  - `gradients` are computed as the derivative of the cost function with respect to theta.\n",
        "  - We update the parameters by subtracting the scaled gradient.\n",
        "  - The **loss** is calculated using Mean Squared Error (MSE), and the algorithm aims to minimize this loss.\n"
      ],
      "metadata": {
        "id": "8V6EEhcfvTQS"
      }
    },
    {
      "cell_type": "markdown",
      "source": [
        "# **3. Stochastic Gradient Descent (SGD)**"
      ],
      "metadata": {
        "id": "5ozWEsh8vYd5"
      }
    },
    {
      "cell_type": "markdown",
      "source": [
        "Stochastic Gradient Descent (SGD) is a variant of Gradient Descent where the parameters are updated after each data point, instead of after calculating the gradient over the entire dataset. This can make the algorithm faster, especially for large datasets, but introduces more variance in the updates.\n"
      ],
      "metadata": {
        "id": "TuJKVcjcvaon"
      }
    },
    {
      "cell_type": "markdown",
      "source": [
        "In SGD, the update rule is similar to Gradient Descent, but the gradient is calculated for a single data point at each iteration:\n",
        "\n",
        "theta = theta - eta * (gradient of J(theta^(i)))\n",
        "\n",
        "Where:\n",
        "- theta represents the model parameters (weights)\n",
        "- eta is the learning rate\n",
        "- gradient of J(theta^(i)) is the gradient of the cost function for a single data point\n"
      ],
      "metadata": {
        "id": "UhKwYKqgvxiZ"
      }
    },
    {
      "cell_type": "markdown",
      "source": [
        "- In SGD, we compute the gradient for one randomly selected data point at a time. This introduces randomness in the updates, which can lead to faster convergence but may cause instability (fluctuating updates).\n",
        "- As a result, SGD can converge faster but may take more time to stabilize compared to full-batch Gradient Descent.\n"
      ],
      "metadata": {
        "id": "M5I11CS8vznC"
      }
    },
    {
      "cell_type": "markdown",
      "source": [
        "# **Code Implementation: Stochastic Gradient Descent**"
      ],
      "metadata": {
        "id": "zZyvW2P0v2nz"
      }
    },
    {
      "cell_type": "code",
      "source": [
        "def stochastic_gradient_descent(X, y, theta, lr, epochs):\n",
        "    m = len(y)\n",
        "    history = []\n",
        "    for epoch in range(epochs):\n",
        "        for i in range(m):\n",
        "            random_index = np.random.randint(m)\n",
        "            xi = X[random_index:random_index+1]\n",
        "            yi = y[random_index:random_index+1]\n",
        "            gradients = 2 * xi.T.dot(xi.dot(theta) - yi)\n",
        "            theta -= lr * gradients\n",
        "        predictions = X.dot(theta)\n",
        "        loss = (1/(2*m)) * np.sum((predictions - y)**2)\n",
        "        history.append(loss)\n",
        "    return theta, history\n"
      ],
      "metadata": {
        "id": "n8QuqXWJvQ5G"
      },
      "execution_count": 2,
      "outputs": []
    },
    {
      "cell_type": "markdown",
      "source": [
        "- **Explanation**:\n",
        "  - Instead of calculating gradients for the entire dataset, we randomly pick one data point (`xi`) and compute the gradient for that point.\n",
        "  - The parameter **theta** is updated after each data point, which may cause more fluctuation in the loss curve.\n"
      ],
      "metadata": {
        "id": "pdd9Ll1_wMdn"
      }
    },
    {
      "cell_type": "markdown",
      "source": [
        "# **4. Adam Optimizer**"
      ],
      "metadata": {
        "id": "ZlgSkQHGwQIk"
      }
    },
    {
      "cell_type": "markdown",
      "source": [
        "Adam (Adaptive Moment Estimation) is an advanced optimization algorithm that combines **Momentum** and **RMSProp** techniques. It adjusts the learning rate for each parameter and adapts the learning rate based on the first and second moments (gradients and squared gradients).\n"
      ],
      "metadata": {
        "id": "GWFK3_C6wS7Z"
      }
    },
    {
      "cell_type": "markdown",
      "source": [
        "Adam uses the following equations for parameter updates:\n",
        "\n",
        "1. First Moment (m):\n",
        "\n",
        "m_t = beta1 * m_(t-1) + (1 - beta1) * (gradient of J(theta))\n",
        "\n",
        "2. Second Moment (v):\n",
        "\n",
        "v_t = beta2 * v_(t-1) + (1 - beta2) * (gradient of J(theta))^2\n",
        "\n",
        "3. Bias-correction:\n",
        "\n",
        "m_hat_t = m_t / (1 - beta1^t)\n",
        "v_hat_t = v_t / (1 - beta2^t)\n",
        "\n",
        "4. Parameter Update:\n",
        "\n",
        "theta = theta - eta * m_hat_t / (sqrt(v_hat_t) + epsilon)\n",
        "\n",
        "Where:\n",
        "- m_t and v_t are the moving averages of the gradient and squared gradient, respectively.\n",
        "- beta1 and beta2 are decay rates for the momentums.\n",
        "- eta is the learning rate.\n",
        "- epsilon is a small constant to prevent division by zero.\n"
      ],
      "metadata": {
        "id": "8arkziN5wbpZ"
      }
    },
    {
      "cell_type": "markdown",
      "source": [
        "- **Momentum** helps accelerate gradient descent in the relevant direction and dampens oscillations.\n",
        "- **RMSProp** helps by scaling the learning rate based on the magnitude of past gradients, preventing large updates in noisy regions.\n",
        "- Adam combines these two techniques, making it more robust and adaptive.\n"
      ],
      "metadata": {
        "id": "2ykt6QFvwdRK"
      }
    },
    {
      "cell_type": "markdown",
      "source": [
        "# **Code Implementation: Adam Optimizer**"
      ],
      "metadata": {
        "id": "kG7UZY3Dwiax"
      }
    },
    {
      "cell_type": "code",
      "source": [
        "def adam_optimizer(X, y, theta, lr, beta1, beta2, epsilon, epochs):\n",
        "    m = len(y)\n",
        "    mt = np.zeros_like(theta)\n",
        "    vt = np.zeros_like(theta)\n",
        "    history = []\n",
        "    for t in range(1, epochs + 1):\n",
        "        predictions = X.dot(theta)\n",
        "        gradients = (1/m) * X.T.dot(predictions - y)\n",
        "        mt = beta1 * mt + (1 - beta1) * gradients\n",
        "        vt = beta2 * vt + (1 - beta2) * (gradients**2)\n",
        "        mt_corr = mt / (1 - beta1**t)\n",
        "        vt_corr = vt / (1 - beta2**t)\n",
        "        theta -= lr * mt_corr / (np.sqrt(vt_corr) + epsilon)\n",
        "        loss = (1/(2*m)) * np.sum((predictions - y)**2)\n",
        "        history.append(loss)\n",
        "    return theta, history\n"
      ],
      "metadata": {
        "id": "pvG6U1xswKUK"
      },
      "execution_count": 3,
      "outputs": []
    },
    {
      "cell_type": "markdown",
      "source": [
        "- **Explanation**:\n",
        "  - **mt** and **vt** store the exponentially weighted moving averages of the gradient and squared gradient.\n",
        "  - **mt_corr** and **vt_corr** are corrected versions of **mt** and **vt**, which help correct bias in the early stages of training.\n",
        "  - We update **theta** by dividing the corrected gradient by the square root of the corrected squared gradient, scaled by the learning rate.\n"
      ],
      "metadata": {
        "id": "cBfCAn-ywne7"
      }
    },
    {
      "cell_type": "markdown",
      "source": [
        "# **5. Visualizing Results**"
      ],
      "metadata": {
        "id": "EJug5Hxmwp8W"
      }
    },
    {
      "cell_type": "code",
      "source": [
        "import numpy as np\n",
        "import matplotlib.pyplot as plt\n",
        "\n",
        "# Generate synthetic data (linear relationship)\n",
        "np.random.seed(42)\n",
        "X = 2 * np.random.rand(100, 1)  # 100 samples, 1 feature\n",
        "y = 4 + 3 * X + np.random.randn(100, 1)  # Linear relation with some noise\n",
        "\n",
        "# Adding bias term to X\n",
        "X_b = np.c_[np.ones((X.shape[0], 1)), X]  # Add a column of ones to include the bias term\n",
        "\n",
        "# Initializing parameters\n",
        "theta_initial = np.random.randn(2, 1)  # Two parameters (bias and weight)\n",
        "learning_rate = 0.1\n",
        "epochs = 100\n",
        "\n",
        "# Function implementations for optimizers (from the previous code)\n",
        "def gradient_descent(X, y, theta, lr, epochs):\n",
        "    m = len(y)\n",
        "    history = []\n",
        "    for epoch in range(epochs):\n",
        "        predictions = X.dot(theta)\n",
        "        gradients = (1/m) * X.T.dot(predictions - y)\n",
        "        theta -= lr * gradients\n",
        "        loss = (1/(2*m)) * np.sum((predictions - y)**2)\n",
        "        history.append(loss)\n",
        "    return theta, history\n",
        "\n",
        "def stochastic_gradient_descent(X, y, theta, lr, epochs):\n",
        "    m = len(y)\n",
        "    history = []\n",
        "    for epoch in range(epochs):\n",
        "        for i in range(m):\n",
        "            random_index = np.random.randint(m)\n",
        "            xi = X[random_index:random_index+1]\n",
        "            yi = y[random_index:random_index+1]\n",
        "            gradients = 2 * xi.T.dot(xi.dot(theta) - yi)\n",
        "            theta -= lr * gradients\n",
        "        predictions = X.dot(theta)\n",
        "        loss = (1/(2*m)) * np.sum((predictions - y)**2)\n",
        "        history.append(loss)\n",
        "    return theta, history\n",
        "\n",
        "def adam_optimizer(X, y, theta, lr, beta1, beta2, epsilon, epochs):\n",
        "    m = len(y)\n",
        "    mt = np.zeros_like(theta)\n",
        "    vt = np.zeros_like(theta)\n",
        "    history = []\n",
        "    for t in range(1, epochs + 1):\n",
        "        predictions = X.dot(theta)\n",
        "        gradients = (1/m) * X.T.dot(predictions - y)\n",
        "        mt = beta1 * mt + (1 - beta1) * gradients\n",
        "        vt = beta2 * vt + (1 - beta2) * (gradients**2)\n",
        "        mt_corr = mt / (1 - beta1**t)\n",
        "        vt_corr = vt / (1 - beta2**t)\n",
        "        theta -= lr * mt_corr / (np.sqrt(vt_corr) + epsilon)\n",
        "        loss = (1/(2*m)) * np.sum((predictions - y)**2)\n",
        "        history.append(loss)\n",
        "    return theta, history\n",
        "\n",
        "# Running all optimizers and capturing their results\n",
        "theta_gd, history_gd = gradient_descent(X_b, y, theta_initial.copy(), learning_rate, epochs)\n",
        "theta_sgd, history_sgd = stochastic_gradient_descent(X_b, y, theta_initial.copy(), learning_rate, epochs)\n",
        "theta_adam, history_adam = adam_optimizer(X_b, y, theta_initial.copy(), 0.1, 0.9, 0.999, 1e-8, epochs)\n",
        "\n",
        "# Plotting loss curves for comparison\n",
        "plt.figure(figsize=(10, 6))\n",
        "plt.plot(history_gd, label=\"Gradient Descent\")\n",
        "plt.plot(history_sgd, label=\"Stochastic Gradient Descent\")\n",
        "plt.plot(history_adam, label=\"Adam Optimizer\")\n",
        "plt.xlabel(\"Epochs\")\n",
        "plt.ylabel(\"Loss\")\n",
        "plt.title(\"Loss vs Epochs for Different Optimizers\")\n",
        "plt.legend()\n",
        "plt.grid()\n",
        "plt.show()\n"
      ],
      "metadata": {
        "colab": {
          "base_uri": "https://localhost:8080/",
          "height": 564
        },
        "id": "Gbk2wtkXwlXM",
        "outputId": "2a9950a0-6551-4ce9-cede-d2b8876ace18"
      },
      "execution_count": 5,
      "outputs": [
        {
          "output_type": "display_data",
          "data": {
            "text/plain": [
              "<Figure size 1000x600 with 1 Axes>"
            ],
            "image/png": "[encoded data removed]"
          },
          "metadata": {}
        }
      ]
    },
    {
      "cell_type": "markdown",
      "source": [
        "# **Explanation**\n",
        "### 2. Generating Synthetic Data (Linear Relationship)\n",
        "```python\n",
        "np.random.seed(42)\n",
        "X = 2 * np.random.rand(100, 1)  # 100 samples, 1 feature\n",
        "y = 4 + 3 * X + np.random.randn(100, 1)  # Linear relation with some noise\n",
        "```\n",
        "- **`np.random.seed(42)`**: This sets the random seed so that the random number generation is reproducible. It ensures that you get the same results each time you run the code.\n",
        "- **`X = 2 * np.random.rand(100, 1)`**: Generates 100 random data points (`X`), each being a 1-dimensional value. These values are scaled to range between 0 and 2.\n",
        "- **`y = 4 + 3 * X + np.random.randn(100, 1)`**: Here, we define the target variable `y` based on a simple linear model: \\( y = 4 + 3X + \\epsilon \\), where \\( \\epsilon \\) is Gaussian noise added using `np.random.randn()` to make the data more realistic (not perfectly linear).\n",
        "\n",
        "### 3. Adding Bias Term to the Feature Matrix `X`\n",
        "```python\n",
        "X_b = np.c_[np.ones((X.shape[0], 1)), X]  # Add a column of ones to include the bias term\n",
        "```\n",
        "- **`np.c_[]`**: This is a shorthand notation in numpy for concatenating arrays. In this case, we are adding a column of ones to `X`, making it a bias term.\n",
        "- The new matrix `X_b` will have 2 columns: one for the bias term (set to 1) and one for the feature values from `X`.\n",
        "\n",
        "### 4. Initializing Parameters\n",
        "```python\n",
        "theta_initial = np.random.randn(2, 1)  # Two parameters (bias and weight)\n",
        "learning_rate = 0.1\n",
        "epochs = 100\n",
        "```\n",
        "- **`theta_initial = np.random.randn(2, 1)`**: Initializes the model parameters (weights) `theta` randomly. Since we have two features (bias and weight), it will be a 2x1 matrix.\n",
        "- **`learning_rate = 0.1`**: This is the step size that determines how much the model parameters will change with each update. A higher value may result in overshooting, while a smaller value may result in slower convergence.\n",
        "- **`epochs = 100`**: The number of iterations the optimizer will run to update the model parameters. Each epoch involves calculating the gradient and updating `theta`.\n",
        "\n",
        "### 5. Defining Optimization Functions (Gradient Descent, Stochastic Gradient Descent, and Adam)\n",
        "#### Gradient Descent\n",
        "```python\n",
        "def gradient_descent(X, y, theta, lr, epochs):\n",
        "    m = len(y)\n",
        "    history = []\n",
        "    for epoch in range(epochs):\n",
        "        predictions = X.dot(theta)\n",
        "        gradients = (1/m) * X.T.dot(predictions - y)\n",
        "        theta -= lr * gradients\n",
        "        loss = (1/(2*m)) * np.sum((predictions - y)**2)\n",
        "        history.append(loss)\n",
        "    return theta, history\n",
        "```\n",
        "- **`m = len(y)`**: `m` represents the number of training examples. Here, it is 100 since `y` has 100 data points.\n",
        "- **`predictions = X.dot(theta)`**: Computes the model's predictions using the current values of `theta` by multiplying the feature matrix `X` with the parameter vector `theta`. This is the dot product.\n",
        "- **`gradients = (1/m) * X.T.dot(predictions - y)`**: This computes the gradient of the cost function with respect to the model parameters. It uses the mean squared error cost function.\n",
        "- **`theta -= lr * gradients`**: Updates the model parameters using the gradient and learning rate. This is the core of gradient descent.\n",
        "- **`loss = (1/(2*m)) * np.sum((predictions - y)**2)`**: This calculates the cost (loss) after each epoch by computing the mean squared error.\n",
        "- **`history.append(loss)`**: Appends the loss value at each epoch to the `history` list to track how the model improves over time.\n",
        "\n",
        "#### Stochastic Gradient Descent (SGD)\n",
        "```python\n",
        "def stochastic_gradient_descent(X, y, theta, lr, epochs):\n",
        "    m = len(y)\n",
        "    history = []\n",
        "    for epoch in range(epochs):\n",
        "        for i in range(m):\n",
        "            random_index = np.random.randint(m)\n",
        "            xi = X[random_index:random_index+1]\n",
        "            yi = y[random_index:random_index+1]\n",
        "            gradients = 2 * xi.T.dot(xi.dot(theta) - yi)\n",
        "            theta -= lr * gradients\n",
        "        predictions = X.dot(theta)\n",
        "        loss = (1/(2*m)) * np.sum((predictions - y)**2)\n",
        "        history.append(loss)\n",
        "    return theta, history\n",
        "```\n",
        "- **`for i in range(m)`**: SGD updates the parameters for each training example, rather than using the entire dataset as in batch gradient descent.\n",
        "- **`random_index = np.random.randint(m)`**: Randomly selects an index in the dataset for each update, making this an online learning algorithm.\n",
        "- **`xi = X[random_index:random_index+1]`**: Selects the data point at the `random_index`.\n",
        "- **`gradients = 2 * xi.T.dot(xi.dot(theta) - yi)`**: Computes the gradient based on the selected data point `xi` and its corresponding label `yi`.\n",
        "- **`theta -= lr * gradients`**: Updates the model parameters after each data point.\n",
        "- **`predictions = X.dot(theta)`**: After all updates, it computes the final predictions for the entire dataset.\n",
        "- **`history.append(loss)`**: Tracks the loss at each epoch.\n",
        "\n",
        "#### Adam Optimizer\n",
        "```python\n",
        "def adam_optimizer(X, y, theta, lr, beta1, beta2, epsilon, epochs):\n",
        "    m = len(y)\n",
        "    mt = np.zeros_like(theta)\n",
        "    vt = np.zeros_like(theta)\n",
        "    history = []\n",
        "    for t in range(1, epochs + 1):\n",
        "        predictions = X.dot(theta)\n",
        "        gradients = (1/m) * X.T.dot(predictions - y)\n",
        "        mt = beta1 * mt + (1 - beta1) * gradients\n",
        "        vt = beta2 * vt + (1 - beta2) * (gradients**2)\n",
        "        mt_corr = mt / (1 - beta1**t)\n",
        "        vt_corr = vt / (1 - beta2**t)\n",
        "        theta -= lr * mt_corr / (np.sqrt(vt_corr) + epsilon)\n",
        "        loss = (1/(2*m)) * np.sum((predictions - y)**2)\n",
        "        history.append(loss)\n",
        "    return theta, history\n",
        "```\n",
        "- **`mt = np.zeros_like(theta)` and `vt = np.zeros_like(theta)`**: These initialize the first moment (`mt`) and second moment (`vt`) to zero. These are used to store the moving averages of the gradients and squared gradients, respectively.\n",
        "- **`mt = beta1 * mt + (1 - beta1) * gradients`**: Updates the first moment estimate (exponentially decaying average of past gradients).\n",
        "- **`vt = beta2 * vt + (1 - beta2) * (gradients**2)`**: Updates the second moment estimate (exponentially decaying average of past squared gradients).\n",
        "- **`mt_corr = mt / (1 - beta1**t)`**: Corrects the bias in the first moment estimate (since `mt` is initialized to zero).\n",
        "- **`vt_corr = vt / (1 - beta2**t)`**: Corrects the bias in the second moment estimate.\n",
        "- **`theta -= lr * mt_corr / (np.sqrt(vt_corr) + epsilon)`**: Updates the parameters using the corrected moment estimates, incorporating both momentum and adaptive learning rates.\n",
        "- **`loss = (1/(2*m)) * np.sum((predictions - y)**2)`**: Calculates the loss as the mean squared error.\n",
        "- **`history.append(loss)`**: Records the loss for visualization.\n",
        "\n",
        "### 6. Running the Optimizers\n",
        "```python\n",
        "theta_gd, history_gd = gradient_descent(X_b, y, theta_initial.copy(), learning_rate, epochs)\n",
        "theta_sgd, history_sgd = stochastic_gradient_descent(X_b, y, theta_initial.copy(), learning_rate, epochs)\n",
        "theta_adam, history_adam = adam_optimizer(X_b, y, theta_initial.copy(), 0.1, 0.9, 0.999, 1e-8, epochs)\n",
        "```\n",
        "- Here, we call each optimization function and pass the data `X_b` (with bias), target `y`, initial `theta`, learning rate, and the number of epochs. The result is stored in `theta` (the optimized parameters) and `history` (the loss history).\n",
        "\n",
        "### 7. Plotting the Loss Curves\n",
        "```python\n",
        "plt.figure(figsize=(10, 6))\n",
        "plt.plot(history_gd, label=\"Gradient Descent\")\n",
        "plt.plot(history_sgd, label=\"Stochastic Gradient Descent\")\n",
        "plt.plot(history_adam, label=\"Adam Optimizer\")\n",
        "plt.xlabel(\"Epochs\")\n",
        "plt.ylabel(\"Loss\")\n",
        "plt.title(\"Loss vs Epochs for Different Optimizers\")\n",
        "plt.legend()\n",
        "plt.grid()\n",
        "plt.show()\n",
        "```\n",
        "- **`plt.figure(figsize=(10, 6))`**: Sets the figure size for the plot.\n",
        "- **`plt.plot(...)`**: Plots the loss history for each optimizer (Gradient Descent, SGD, and Adam).\n",
        "- **`plt.xlabel(\"Epochs\")` and `plt.ylabel(\"Loss\")`**: Labels the x-axis as \"Epochs\" and y-axis as \"Loss\".\n",
        "- **`plt.title(...)`**: Sets the title of the plot.\n",
        "- **`plt.legend()`**: Adds a legend to the plot to distinguish between the optimizers.\n",
        "- **`plt.grid()`**: Adds a grid to the plot for better readability.\n",
        "- **`plt.show()`**: Displays the plot.\n",
        "\n",
        "### Summary:\n",
        "This code demonstrates how three different optimization algorithms (Gradient Descent, Stochastic Gradient Descent, and Adam) are applied to a simple linear regression problem using synthetic data. The loss over multiple epochs is tracked and visualized to compare the convergence behavior of each optimizer."
      ],
      "metadata": {
        "id": "q7jUbUqvyQLU"
      }
    },
    {
      "cell_type": "markdown",
      "source": [
        "## Conclusion\n",
        "\n",
        "In this experiment, we compared the performance of three popular optimization algorithms—**Gradient Descent**, **Stochastic Gradient Descent (SGD)**, and **Adam Optimizer**—on a simple linear regression task. Each optimizer was applied to a synthetic dataset with a linear relationship and noise.\n",
        "\n",
        "### Key Observations:\n",
        "1. **Gradient Descent**:\n",
        "   - Converged steadily but at a slower rate compared to the other two methods. The loss decreased progressively with each epoch.\n",
        "   - May require fine-tuning of the learning rate to avoid slow convergence or overshooting.\n",
        "\n",
        "2. **Stochastic Gradient Descent (SGD)**:\n",
        "   - Showed more fluctuations in the loss curve due to updates based on individual training examples.\n",
        "   - While it converged faster than batch gradient descent, the randomness introduced by sampling individual data points made the convergence less smooth.\n",
        "\n",
        "3. **Adam Optimizer**:\n",
        "   - Exhibited the fastest convergence among the three algorithms.\n",
        "   - The loss curve showed steady reduction without significant fluctuations, benefiting from both momentum (first moment estimate) and adaptive learning rates (second moment estimate).\n",
        "\n",
        "### Conclusion:\n",
        "- **Adam Optimizer** performed the best in terms of faster convergence and smoother loss reduction, making it a suitable choice for a wide range of machine learning tasks.\n",
        "- **Stochastic Gradient Descent** is useful when we need faster updates but may require additional tuning for smoother convergence.\n",
        "- **Gradient Descent** is effective for simple, well-behaved problems, but it may struggle with larger datasets or complex models.\n",
        "\n",
        "Based on these observations, the choice of optimizer depends on the specific problem, dataset size, and convergence behavior required.\n"
      ],
      "metadata": {
        "id": "t5Fjq7iYxdqC"
      }
    },
    {
      "cell_type": "code",
      "source": [],
      "metadata": {
        "id": "_z5_WNx0wr7H"
      },
      "execution_count": null,
      "outputs": []
    }
  ]
}