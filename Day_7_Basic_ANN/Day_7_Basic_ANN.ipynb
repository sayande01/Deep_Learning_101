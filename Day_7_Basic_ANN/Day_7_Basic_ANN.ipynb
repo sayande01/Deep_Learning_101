{
  "nbformat": 4,
  "nbformat_minor": 0,
  "metadata": {
    "colab": {
      "provenance": []
    },
    "kernelspec": {
      "name": "python3",
      "display_name": "Python 3"
    },
    "language_info": {
      "name": "python"
    }
  },
  "cells": [
    {
      "cell_type": "markdown",
      "source": [
        "# **Day 7: Neural Network Architectures**\n",
        "\n",
        "---\n",
        "\n",
        "## **Introduction**\n",
        "\n",
        "Neural networks are the backbone of many modern AI applications. In this notebook, we will:\n",
        "1. Design a realistic neural network with multiple layers and non-linear activations.\n",
        "2. Generate synthetic data for a classification task.\n",
        "3. Train a feedforward neural network using Keras.\n",
        "4. Evaluate the model on validation data and explain performance.\n",
        "5. Discuss practical considerations like regularization and overfitting.\n",
        "\n",
        "---\n",
        "\n",
        "## **1. Neural Network Design**\n",
        "\n",
        "### **Architecture**\n",
        "\n",
        "The architecture we’ll build:\n",
        "- Input Layer: 8 features (simulated input data).\n",
        "- 2 Hidden Layers:\n",
        "  - Hidden Layer 1: 16 neurons, `ReLU` activation.\n",
        "  - Hidden Layer 2: 8 neurons, `ReLU` activation.\n",
        "- Output Layer: 3 neurons (multi-class classification with softmax).\n",
        "\n",
        "### **Parameter Calculation**\n",
        "\n",
        "For each layer:\n",
        "- Weights = (neurons in the current layer) × (neurons in the previous layer)\n",
        "- Biases = (neurons in the current layer)\n",
        "- Total parameters = Weights + Biases\n",
        "\n",
        "\n"
      ],
      "metadata": {
        "id": "kfkD2eT6QcRk"
      }
    },
    {
      "cell_type": "code",
      "source": [
        "# Parameter Calculation\n",
        "# Architecture: Input -> 8 features, Hidden Layer 1 -> 16 neurons,\n",
        "# Hidden Layer 2 -> 8 neurons, Output Layer -> 3 neurons\n",
        "\n",
        "# Parameters for Hidden Layer 1\n",
        "weights_h1 = 8 * 16\n",
        "biases_h1 = 16\n",
        "params_h1 = weights_h1 + biases_h1\n",
        "\n",
        "# Parameters for Hidden Layer 2\n",
        "weights_h2 = 16 * 8\n",
        "biases_h2 = 8\n",
        "params_h2 = weights_h2 + biases_h2\n",
        "\n",
        "# Parameters for Output Layer\n",
        "weights_out = 8 * 3\n",
        "biases_out = 3\n",
        "params_out = weights_out + biases_out\n",
        "\n",
        "# Total parameters\n",
        "total_params = params_h1 + params_h2 + params_out\n",
        "print(f\"Total Parameters: {total_params}\")"
      ],
      "metadata": {
        "colab": {
          "base_uri": "https://localhost:8080/"
        },
        "id": "7FGYAVHUQku8",
        "outputId": "32aeb36f-c477-419c-95e2-42ca3e417fba"
      },
      "execution_count": 3,
      "outputs": [
        {
          "output_type": "stream",
          "name": "stdout",
          "text": [
            "Total Parameters: 307\n"
          ]
        }
      ]
    },
    {
      "cell_type": "markdown",
      "source": [
        "### **Explanation**\n",
        "\n",
        "1. **Hidden Layer 1:**\n",
        "   - Weights = 8 (input features) × 16 (neurons) = 128\n",
        "   - Biases = 16\n",
        "   - Total = 128 + 16 = 144\n",
        "\n",
        "2. **Hidden Layer 2:**\n",
        "   - Weights = 16 × 8 = 128\n",
        "   - Biases = 8\n",
        "   - Total = 128 + 8 = 136\n",
        "\n",
        "3. **Output Layer:**\n",
        "   - Weights = 8 × 3 = 24\n",
        "   - Biases = 3\n",
        "   - Total = 24 + 3 = 27\n",
        "\n",
        "4. **Total Parameters:** 144 + 136 + 27 = **307 parameters**\n"
      ],
      "metadata": {
        "id": "m9dqEy2qQfFb"
      }
    },
    {
      "cell_type": "markdown",
      "source": [
        "# **2. Generate Synthetic Data**\n",
        "\n",
        "We will generate a multi-class dataset with 3 classes and 8 features using the make_classification function from sklearn."
      ],
      "metadata": {
        "id": "KSUzvVcAQnau"
      }
    },
    {
      "cell_type": "code",
      "source": [
        "from sklearn.datasets import make_classification\n",
        "from sklearn.model_selection import train_test_split\n",
        "import numpy as np\n",
        "\n",
        "# Generate synthetic dataset\n",
        "X, y = make_classification(\n",
        "    n_samples=1000,     # Number of data points\n",
        "    n_features=8,       # Number of features\n",
        "    n_informative=6,    # Informative features\n",
        "    n_classes=3,        # Number of output classes\n",
        "    random_state=42\n",
        ")\n",
        "\n",
        "# Split data into training and validation sets\n",
        "X_train, X_val, y_train, y_val = train_test_split(X, y, test_size=0.2, random_state=42)\n",
        "\n",
        "# Convert labels to one-hot encoding for multi-class classification\n",
        "y_train = np.eye(3)[y_train]\n",
        "y_val = np.eye(3)[y_val]\n",
        "\n",
        "print(f\"Training data shape: {X_train.shape}, Training labels shape: {y_train.shape}\")\n",
        "print(f\"Validation data shape: {X_val.shape}, Validation labels shape: {y_val.shape}\")\n"
      ],
      "metadata": {
        "colab": {
          "base_uri": "https://localhost:8080/"
        },
        "id": "UpDYeN-AQboD",
        "outputId": "1812c80c-d747-402e-87bf-3cd30356251d"
      },
      "execution_count": 4,
      "outputs": [
        {
          "output_type": "stream",
          "name": "stdout",
          "text": [
            "Training data shape: (800, 8), Training labels shape: (800, 3)\n",
            "Validation data shape: (200, 8), Validation labels shape: (200, 3)\n"
          ]
        }
      ]
    },
    {
      "cell_type": "markdown",
      "source": [
        "### **Explanation**\n",
        "\n",
        "1. **Data Generation:**\n",
        "   - `make_classification` creates a dataset with 8 features, out of which 6 are informative for classification.\n",
        "   - 3 classes represent the output categories.\n",
        "\n",
        "2. **Train-Validation Split:**\n",
        "   - Training set: 80% of the data.\n",
        "   - Validation set: 20% of the data.\n",
        "\n",
        "3. **One-Hot Encoding:**\n",
        "   - Each class label is converted into a one-hot encoded vector for multi-class classification.\n",
        "   - Example: Class `1` → `[0, 1, 0]`.\n"
      ],
      "metadata": {
        "id": "6oqz9fSjQuD-"
      }
    },
    {
      "cell_type": "markdown",
      "source": [
        "# **3. Build and Train the Neural Network**\n",
        "**Model Architecture**\n",
        "- 2 hidden layers with ReLU activation.\n",
        "- Output layer with softmax activation.\n",
        "- Added L2 regularization to avoid overfitting."
      ],
      "metadata": {
        "id": "h1TJJ_g9QzDC"
      }
    },
    {
      "cell_type": "code",
      "source": [
        "from keras.models import Sequential\n",
        "from keras.layers import Dense\n",
        "from keras.regularizers import l2\n",
        "\n",
        "# Create the model\n",
        "model = Sequential()\n",
        "\n",
        "# Hidden Layer 1\n",
        "model.add(Dense(16, input_dim=8, activation='relu', kernel_regularizer=l2(0.01)))\n",
        "\n",
        "# Hidden Layer 2\n",
        "model.add(Dense(8, activation='relu', kernel_regularizer=l2(0.01)))\n",
        "\n",
        "# Output Layer\n",
        "model.add(Dense(3, activation='softmax'))\n",
        "\n",
        "# Compile the model\n",
        "model.compile(optimizer='adam', loss='categorical_crossentropy', metrics=['accuracy'])\n",
        "\n",
        "# Train the model\n",
        "history = model.fit(\n",
        "    X_train, y_train,\n",
        "    validation_data=(X_val, y_val),\n",
        "    epochs=50, batch_size=32, verbose=1\n",
        ")\n"
      ],
      "metadata": {
        "colab": {
          "base_uri": "https://localhost:8080/"
        },
        "id": "fUem7DU4Qbqr",
        "outputId": "3b927c3e-3e19-4806-e382-a4e5b6f6c778"
      },
      "execution_count": 5,
      "outputs": [
        {
          "output_type": "stream",
          "name": "stdout",
          "text": [
            "Epoch 1/50\n"
          ]
        },
        {
          "output_type": "stream",
          "name": "stderr",
          "text": [
            "/usr/local/lib/python3.11/dist-packages/keras/src/layers/core/dense.py:87: UserWarning: Do not pass an `input_shape`/`input_dim` argument to a layer. When using Sequential models, prefer using an `Input(shape)` object as the first layer in the model instead.\n",
            "  super().__init__(activity_regularizer=activity_regularizer, **kwargs)\n"
          ]
        },
        {
          "output_type": "stream",
          "name": "stdout",
          "text": [
            "\u001b[1m25/25\u001b[0m \u001b[32m━━━━━━━━━━━━━━━━━━━━\u001b[0m\u001b[37m\u001b[0m \u001b[1m4s\u001b[0m 17ms/step - accuracy: 0.3367 - loss: 1.5405 - val_accuracy: 0.4900 - val_loss: 1.3625\n",
            "Epoch 2/50\n",
            "\u001b[1m25/25\u001b[0m \u001b[32m━━━━━━━━━━━━━━━━━━━━\u001b[0m\u001b[37m\u001b[0m \u001b[1m0s\u001b[0m 7ms/step - accuracy: 0.4072 - loss: 1.3724 - val_accuracy: 0.5000 - val_loss: 1.2691\n",
            "Epoch 3/50\n",
            "\u001b[1m25/25\u001b[0m \u001b[32m━━━━━━━━━━━━━━━━━━━━\u001b[0m\u001b[37m\u001b[0m \u001b[1m0s\u001b[0m 3ms/step - accuracy: 0.4629 - loss: 1.3011 - val_accuracy: 0.5400 - val_loss: 1.2082\n",
            "Epoch 4/50\n",
            "\u001b[1m25/25\u001b[0m \u001b[32m━━━━━━━━━━━━━━━━━━━━\u001b[0m\u001b[37m\u001b[0m \u001b[1m0s\u001b[0m 3ms/step - accuracy: 0.5134 - loss: 1.2296 - val_accuracy: 0.5650 - val_loss: 1.1675\n",
            "Epoch 5/50\n",
            "\u001b[1m25/25\u001b[0m \u001b[32m━━━━━━━━━━━━━━━━━━━━\u001b[0m\u001b[37m\u001b[0m \u001b[1m0s\u001b[0m 3ms/step - accuracy: 0.5459 - loss: 1.1748 - val_accuracy: 0.6050 - val_loss: 1.1365\n",
            "Epoch 6/50\n",
            "\u001b[1m25/25\u001b[0m \u001b[32m━━━━━━━━━━━━━━━━━━━━\u001b[0m\u001b[37m\u001b[0m \u001b[1m0s\u001b[0m 3ms/step - accuracy: 0.5641 - loss: 1.1466 - val_accuracy: 0.6450 - val_loss: 1.1070\n",
            "Epoch 7/50\n",
            "\u001b[1m25/25\u001b[0m \u001b[32m━━━━━━━━━━━━━━━━━━━━\u001b[0m\u001b[37m\u001b[0m \u001b[1m0s\u001b[0m 5ms/step - accuracy: 0.5670 - loss: 1.1142 - val_accuracy: 0.6300 - val_loss: 1.0827\n",
            "Epoch 8/50\n",
            "\u001b[1m25/25\u001b[0m \u001b[32m━━━━━━━━━━━━━━━━━━━━\u001b[0m\u001b[37m\u001b[0m \u001b[1m0s\u001b[0m 3ms/step - accuracy: 0.6137 - loss: 1.0743 - val_accuracy: 0.6200 - val_loss: 1.0557\n",
            "Epoch 9/50\n",
            "\u001b[1m25/25\u001b[0m \u001b[32m━━━━━━━━━━━━━━━━━━━━\u001b[0m\u001b[37m\u001b[0m \u001b[1m0s\u001b[0m 4ms/step - accuracy: 0.6075 - loss: 1.0549 - val_accuracy: 0.6350 - val_loss: 1.0332\n",
            "Epoch 10/50\n",
            "\u001b[1m25/25\u001b[0m \u001b[32m━━━━━━━━━━━━━━━━━━━━\u001b[0m\u001b[37m\u001b[0m \u001b[1m0s\u001b[0m 4ms/step - accuracy: 0.6353 - loss: 1.0243 - val_accuracy: 0.6650 - val_loss: 1.0079\n",
            "Epoch 11/50\n",
            "\u001b[1m25/25\u001b[0m \u001b[32m━━━━━━━━━━━━━━━━━━━━\u001b[0m\u001b[37m\u001b[0m \u001b[1m0s\u001b[0m 4ms/step - accuracy: 0.6361 - loss: 1.0163 - val_accuracy: 0.6850 - val_loss: 0.9760\n",
            "Epoch 12/50\n",
            "\u001b[1m25/25\u001b[0m \u001b[32m━━━━━━━━━━━━━━━━━━━━\u001b[0m\u001b[37m\u001b[0m \u001b[1m0s\u001b[0m 4ms/step - accuracy: 0.6908 - loss: 0.9685 - val_accuracy: 0.7100 - val_loss: 0.9509\n",
            "Epoch 13/50\n",
            "\u001b[1m25/25\u001b[0m \u001b[32m━━━━━━━━━━━━━━━━━━━━\u001b[0m\u001b[37m\u001b[0m \u001b[1m0s\u001b[0m 3ms/step - accuracy: 0.6920 - loss: 0.9188 - val_accuracy: 0.7250 - val_loss: 0.9268\n",
            "Epoch 14/50\n",
            "\u001b[1m25/25\u001b[0m \u001b[32m━━━━━━━━━━━━━━━━━━━━\u001b[0m\u001b[37m\u001b[0m \u001b[1m0s\u001b[0m 6ms/step - accuracy: 0.6992 - loss: 0.9243 - val_accuracy: 0.7200 - val_loss: 0.9067\n",
            "Epoch 15/50\n",
            "\u001b[1m25/25\u001b[0m \u001b[32m━━━━━━━━━━━━━━━━━━━━\u001b[0m\u001b[37m\u001b[0m \u001b[1m0s\u001b[0m 5ms/step - accuracy: 0.7073 - loss: 0.8934 - val_accuracy: 0.7250 - val_loss: 0.8844\n",
            "Epoch 16/50\n",
            "\u001b[1m25/25\u001b[0m \u001b[32m━━━━━━━━━━━━━━━━━━━━\u001b[0m\u001b[37m\u001b[0m \u001b[1m0s\u001b[0m 5ms/step - accuracy: 0.7572 - loss: 0.8520 - val_accuracy: 0.7250 - val_loss: 0.8684\n",
            "Epoch 17/50\n",
            "\u001b[1m25/25\u001b[0m \u001b[32m━━━━━━━━━━━━━━━━━━━━\u001b[0m\u001b[37m\u001b[0m \u001b[1m0s\u001b[0m 4ms/step - accuracy: 0.7256 - loss: 0.8382 - val_accuracy: 0.7300 - val_loss: 0.8512\n",
            "Epoch 18/50\n",
            "\u001b[1m25/25\u001b[0m \u001b[32m━━━━━━━━━━━━━━━━━━━━\u001b[0m\u001b[37m\u001b[0m \u001b[1m0s\u001b[0m 4ms/step - accuracy: 0.7322 - loss: 0.8660 - val_accuracy: 0.7300 - val_loss: 0.8419\n",
            "Epoch 19/50\n",
            "\u001b[1m25/25\u001b[0m \u001b[32m━━━━━━━━━━━━━━━━━━━━\u001b[0m\u001b[37m\u001b[0m \u001b[1m0s\u001b[0m 3ms/step - accuracy: 0.7823 - loss: 0.7822 - val_accuracy: 0.7400 - val_loss: 0.8230\n",
            "Epoch 20/50\n",
            "\u001b[1m25/25\u001b[0m \u001b[32m━━━━━━━━━━━━━━━━━━━━\u001b[0m\u001b[37m\u001b[0m \u001b[1m0s\u001b[0m 3ms/step - accuracy: 0.7309 - loss: 0.8347 - val_accuracy: 0.7600 - val_loss: 0.8110\n",
            "Epoch 21/50\n",
            "\u001b[1m25/25\u001b[0m \u001b[32m━━━━━━━━━━━━━━━━━━━━\u001b[0m\u001b[37m\u001b[0m \u001b[1m0s\u001b[0m 3ms/step - accuracy: 0.7528 - loss: 0.8298 - val_accuracy: 0.7350 - val_loss: 0.8006\n",
            "Epoch 22/50\n",
            "\u001b[1m25/25\u001b[0m \u001b[32m━━━━━━━━━━━━━━━━━━━━\u001b[0m\u001b[37m\u001b[0m \u001b[1m0s\u001b[0m 4ms/step - accuracy: 0.7071 - loss: 0.8416 - val_accuracy: 0.7600 - val_loss: 0.7877\n",
            "Epoch 23/50\n",
            "\u001b[1m25/25\u001b[0m \u001b[32m━━━━━━━━━━━━━━━━━━━━\u001b[0m\u001b[37m\u001b[0m \u001b[1m0s\u001b[0m 3ms/step - accuracy: 0.7664 - loss: 0.7889 - val_accuracy: 0.7550 - val_loss: 0.7774\n",
            "Epoch 24/50\n",
            "\u001b[1m25/25\u001b[0m \u001b[32m━━━━━━━━━━━━━━━━━━━━\u001b[0m\u001b[37m\u001b[0m \u001b[1m0s\u001b[0m 3ms/step - accuracy: 0.7730 - loss: 0.7615 - val_accuracy: 0.7700 - val_loss: 0.7720\n",
            "Epoch 25/50\n",
            "\u001b[1m25/25\u001b[0m \u001b[32m━━━━━━━━━━━━━━━━━━━━\u001b[0m\u001b[37m\u001b[0m \u001b[1m0s\u001b[0m 3ms/step - accuracy: 0.7389 - loss: 0.7962 - val_accuracy: 0.7700 - val_loss: 0.7593\n",
            "Epoch 26/50\n",
            "\u001b[1m25/25\u001b[0m \u001b[32m━━━━━━━━━━━━━━━━━━━━\u001b[0m\u001b[37m\u001b[0m \u001b[1m0s\u001b[0m 4ms/step - accuracy: 0.7786 - loss: 0.7406 - val_accuracy: 0.7600 - val_loss: 0.7531\n",
            "Epoch 27/50\n",
            "\u001b[1m25/25\u001b[0m \u001b[32m━━━━━━━━━━━━━━━━━━━━\u001b[0m\u001b[37m\u001b[0m \u001b[1m0s\u001b[0m 3ms/step - accuracy: 0.7706 - loss: 0.7612 - val_accuracy: 0.7800 - val_loss: 0.7458\n",
            "Epoch 28/50\n",
            "\u001b[1m25/25\u001b[0m \u001b[32m━━━━━━━━━━━━━━━━━━━━\u001b[0m\u001b[37m\u001b[0m \u001b[1m0s\u001b[0m 3ms/step - accuracy: 0.7598 - loss: 0.7374 - val_accuracy: 0.7750 - val_loss: 0.7346\n",
            "Epoch 29/50\n",
            "\u001b[1m25/25\u001b[0m \u001b[32m━━━━━━━━━━━━━━━━━━━━\u001b[0m\u001b[37m\u001b[0m \u001b[1m0s\u001b[0m 4ms/step - accuracy: 0.7712 - loss: 0.7435 - val_accuracy: 0.7950 - val_loss: 0.7327\n",
            "Epoch 30/50\n",
            "\u001b[1m25/25\u001b[0m \u001b[32m━━━━━━━━━━━━━━━━━━━━\u001b[0m\u001b[37m\u001b[0m \u001b[1m0s\u001b[0m 3ms/step - accuracy: 0.8025 - loss: 0.7238 - val_accuracy: 0.7900 - val_loss: 0.7242\n",
            "Epoch 31/50\n",
            "\u001b[1m25/25\u001b[0m \u001b[32m━━━━━━━━━━━━━━━━━━━━\u001b[0m\u001b[37m\u001b[0m \u001b[1m0s\u001b[0m 3ms/step - accuracy: 0.7797 - loss: 0.7322 - val_accuracy: 0.8000 - val_loss: 0.7162\n",
            "Epoch 32/50\n",
            "\u001b[1m25/25\u001b[0m \u001b[32m━━━━━━━━━━━━━━━━━━━━\u001b[0m\u001b[37m\u001b[0m \u001b[1m0s\u001b[0m 3ms/step - accuracy: 0.7965 - loss: 0.7041 - val_accuracy: 0.8000 - val_loss: 0.7123\n",
            "Epoch 33/50\n",
            "\u001b[1m25/25\u001b[0m \u001b[32m━━━━━━━━━━━━━━━━━━━━\u001b[0m\u001b[37m\u001b[0m \u001b[1m0s\u001b[0m 4ms/step - accuracy: 0.7851 - loss: 0.7166 - val_accuracy: 0.8000 - val_loss: 0.7025\n",
            "Epoch 34/50\n",
            "\u001b[1m25/25\u001b[0m \u001b[32m━━━━━━━━━━━━━━━━━━━━\u001b[0m\u001b[37m\u001b[0m \u001b[1m0s\u001b[0m 3ms/step - accuracy: 0.8265 - loss: 0.6640 - val_accuracy: 0.8050 - val_loss: 0.6963\n",
            "Epoch 35/50\n",
            "\u001b[1m25/25\u001b[0m \u001b[32m━━━━━━━━━━━━━━━━━━━━\u001b[0m\u001b[37m\u001b[0m \u001b[1m0s\u001b[0m 3ms/step - accuracy: 0.8119 - loss: 0.6536 - val_accuracy: 0.8050 - val_loss: 0.6932\n",
            "Epoch 36/50\n",
            "\u001b[1m25/25\u001b[0m \u001b[32m━━━━━━━━━━━━━━━━━━━━\u001b[0m\u001b[37m\u001b[0m \u001b[1m0s\u001b[0m 4ms/step - accuracy: 0.8081 - loss: 0.7082 - val_accuracy: 0.8050 - val_loss: 0.6916\n",
            "Epoch 37/50\n",
            "\u001b[1m25/25\u001b[0m \u001b[32m━━━━━━━━━━━━━━━━━━━━\u001b[0m\u001b[37m\u001b[0m \u001b[1m0s\u001b[0m 6ms/step - accuracy: 0.8177 - loss: 0.6854 - val_accuracy: 0.8100 - val_loss: 0.6812\n",
            "Epoch 38/50\n",
            "\u001b[1m25/25\u001b[0m \u001b[32m━━━━━━━━━━━━━━━━━━━━\u001b[0m\u001b[37m\u001b[0m \u001b[1m0s\u001b[0m 5ms/step - accuracy: 0.8129 - loss: 0.6688 - val_accuracy: 0.7950 - val_loss: 0.6838\n",
            "Epoch 39/50\n",
            "\u001b[1m25/25\u001b[0m \u001b[32m━━━━━━━━━━━━━━━━━━━━\u001b[0m\u001b[37m\u001b[0m \u001b[1m0s\u001b[0m 3ms/step - accuracy: 0.8216 - loss: 0.6415 - val_accuracy: 0.7950 - val_loss: 0.6718\n",
            "Epoch 40/50\n",
            "\u001b[1m25/25\u001b[0m \u001b[32m━━━━━━━━━━━━━━━━━━━━\u001b[0m\u001b[37m\u001b[0m \u001b[1m0s\u001b[0m 3ms/step - accuracy: 0.8153 - loss: 0.6505 - val_accuracy: 0.8050 - val_loss: 0.6721\n",
            "Epoch 41/50\n",
            "\u001b[1m25/25\u001b[0m \u001b[32m━━━━━━━━━━━━━━━━━━━━\u001b[0m\u001b[37m\u001b[0m \u001b[1m0s\u001b[0m 3ms/step - accuracy: 0.8164 - loss: 0.6608 - val_accuracy: 0.8000 - val_loss: 0.6655\n",
            "Epoch 42/50\n",
            "\u001b[1m25/25\u001b[0m \u001b[32m━━━━━━━━━━━━━━━━━━━━\u001b[0m\u001b[37m\u001b[0m \u001b[1m0s\u001b[0m 4ms/step - accuracy: 0.8190 - loss: 0.6521 - val_accuracy: 0.8050 - val_loss: 0.6670\n",
            "Epoch 43/50\n",
            "\u001b[1m25/25\u001b[0m \u001b[32m━━━━━━━━━━━━━━━━━━━━\u001b[0m\u001b[37m\u001b[0m \u001b[1m0s\u001b[0m 3ms/step - accuracy: 0.8233 - loss: 0.6222 - val_accuracy: 0.8100 - val_loss: 0.6621\n",
            "Epoch 44/50\n",
            "\u001b[1m25/25\u001b[0m \u001b[32m━━━━━━━━━━━━━━━━━━━━\u001b[0m\u001b[37m\u001b[0m \u001b[1m0s\u001b[0m 3ms/step - accuracy: 0.8143 - loss: 0.6601 - val_accuracy: 0.8250 - val_loss: 0.6558\n",
            "Epoch 45/50\n",
            "\u001b[1m25/25\u001b[0m \u001b[32m━━━━━━━━━━━━━━━━━━━━\u001b[0m\u001b[37m\u001b[0m \u001b[1m0s\u001b[0m 10ms/step - accuracy: 0.8013 - loss: 0.6465 - val_accuracy: 0.8150 - val_loss: 0.6554\n",
            "Epoch 46/50\n",
            "\u001b[1m25/25\u001b[0m \u001b[32m━━━━━━━━━━━━━━━━━━━━\u001b[0m\u001b[37m\u001b[0m \u001b[1m0s\u001b[0m 10ms/step - accuracy: 0.8116 - loss: 0.6425 - val_accuracy: 0.8200 - val_loss: 0.6546\n",
            "Epoch 47/50\n",
            "\u001b[1m25/25\u001b[0m \u001b[32m━━━━━━━━━━━━━━━━━━━━\u001b[0m\u001b[37m\u001b[0m \u001b[1m0s\u001b[0m 4ms/step - accuracy: 0.8133 - loss: 0.6190 - val_accuracy: 0.8200 - val_loss: 0.6449\n",
            "Epoch 48/50\n",
            "\u001b[1m25/25\u001b[0m \u001b[32m━━━━━━━━━━━━━━━━━━━━\u001b[0m\u001b[37m\u001b[0m \u001b[1m0s\u001b[0m 4ms/step - accuracy: 0.8178 - loss: 0.6190 - val_accuracy: 0.8300 - val_loss: 0.6443\n",
            "Epoch 49/50\n",
            "\u001b[1m25/25\u001b[0m \u001b[32m━━━━━━━━━━━━━━━━━━━━\u001b[0m\u001b[37m\u001b[0m \u001b[1m0s\u001b[0m 3ms/step - accuracy: 0.8050 - loss: 0.6391 - val_accuracy: 0.8250 - val_loss: 0.6415\n",
            "Epoch 50/50\n",
            "\u001b[1m25/25\u001b[0m \u001b[32m━━━━━━━━━━━━━━━━━━━━\u001b[0m\u001b[37m\u001b[0m \u001b[1m0s\u001b[0m 3ms/step - accuracy: 0.8140 - loss: 0.6049 - val_accuracy: 0.8250 - val_loss: 0.6390\n"
          ]
        }
      ]
    },
    {
      "cell_type": "markdown",
      "source": [
        "### **Explanation**\n",
        "\n",
        "#### **1. Model Definition**\n",
        "\n",
        "##### **Hidden Layer 1**\n",
        "- **`Dense(16, input_dim=8, activation='relu')`**\n",
        "  - **Input Dimension**: The layer expects 8 input features (as defined by `input_dim=8`). Each feature corresponds to one column in our dataset.\n",
        "  - **Neurons**: The layer has 16 neurons. Each neuron learns a weight for every input feature and applies the ReLU activation function to the weighted sum of inputs.\n",
        "  - **Activation Function (`ReLU`)**:\n",
        "    - ReLU (Rectified Linear Unit) is defined as:  \n",
        "      `f(x) = max(0, x)`\n",
        "    - It introduces non-linearity into the model, allowing it to learn complex patterns in the data.\n",
        "\n",
        "##### **Hidden Layer 2**\n",
        "- **`Dense(8, activation='relu')`**\n",
        "  - **Input to the Layer**: This layer takes the output from the first hidden layer (16 neurons) as its input.\n",
        "  - **Neurons**: The layer has 8 neurons. Each neuron will learn its own set of weights and biases from the previous layer's outputs.\n",
        "  - **Activation Function (`ReLU`)**: As with the first layer, ReLU ensures non-linearity.\n",
        "\n",
        "##### **Output Layer**\n",
        "- **`Dense(3, activation='softmax')`**\n",
        "  - **Neurons**: The output layer has 3 neurons, each corresponding to one class in the classification problem.\n",
        "  - **Activation Function (`softmax`)**:\n",
        "    - Softmax converts raw output values (logits) into probabilities. The formula for the i-th class is:\n",
        "      `P(y_i) = exp(z_i) / sum(exp(z_j)) for all classes j`\n",
        "      where `z_i` is the raw output for class `i` and `sum(exp(z_j))` is the sum of exponentials of the logits for all classes.\n",
        "    - The probabilities sum to 1, making it suitable for multi-class classification.\n",
        "\n",
        "---\n",
        "\n",
        "#### **2. Regularization**\n",
        "\n",
        "##### **`l2(0.01)`**\n",
        "- **Purpose**:\n",
        "  - Regularization prevents the model from overfitting the training data by penalizing large weights in the network.\n",
        "- **How It Works**:\n",
        "  - Adds an L2 penalty term to the loss function:\n",
        "    `L = L_original + lambda * sum(w^2)`\n",
        "    - `L_original`: Original loss (e.g., cross-entropy loss).\n",
        "    - `lambda`: Regularization strength (here, 0.01).\n",
        "    - `w^2`: Sum of the squared weights for each layer.\n",
        "  - This discourages the model from assigning excessive importance to any single feature.\n",
        "\n",
        "---\n",
        "\n",
        "#### **3. Model Compilation**\n",
        "\n",
        "##### **Optimizer: `adam`**\n",
        "- Adam (Adaptive Moment Estimation) adjusts the learning rate dynamically during training:\n",
        "  - Combines the advantages of RMSprop and Momentum optimizers.\n",
        "  - Maintains separate learning rates for each weight, which are adjusted based on the first and second moments of the gradients.\n",
        "\n",
        "##### **Loss Function: `categorical_crossentropy`**\n",
        "- Used for multi-class classification tasks.\n",
        "- Measures the distance between the true class labels (one-hot encoded) and predicted probabilities.\n",
        "- The formula is:\n",
        "  `Loss = -1/N * sum(y_ij * log(y_hat_ij)) for all samples i and classes j`\n",
        "  - `N`: Number of samples.\n",
        "  - `C`: Number of classes.\n",
        "  - `y_ij`: True label for sample `i` and class `j` (1 if it belongs to the class, otherwise 0).\n",
        "  - `y_hat_ij`: Predicted probability for sample `i` and class `j`.\n",
        "\n",
        "##### **Metric: `accuracy`**\n",
        "- The percentage of correctly classified samples out of the total.\n",
        "\n",
        "---\n",
        "\n",
        "#### **4. Model Training**\n",
        "\n",
        "##### **Epochs: `50`**\n",
        "- An epoch is one complete pass through the entire training dataset.\n",
        "- Training for 50 epochs means the model will see the entire dataset 50 times.\n",
        "- **Considerations**:\n",
        "  - Too few epochs might result in underfitting (model doesn’t learn enough).\n",
        "  - Too many epochs can lead to overfitting (model memorizes training data).\n",
        "\n",
        "##### **Batch Size: `32`**\n",
        "- Batch size refers to the number of samples processed at a time before updating the model weights.\n",
        "- **Advantages of Mini-Batch Gradient Descent**:\n",
        "  - Faster convergence compared to full-batch gradient descent.\n",
        "  - Reduces memory usage by processing small batches instead of the entire dataset.\n",
        "\n",
        "##### **Validation Data**\n",
        "- Validation data is unseen by the model during training and helps in monitoring generalization performance.\n",
        "- Metrics (loss, accuracy) on the validation set indicate whether the model is overfitting or underfitting.\n",
        "\n",
        "##### **Key Training Steps**:\n",
        "1. **Forward Pass**:\n",
        "   - Input data is passed through each layer, and activations are computed until the output layer.\n",
        "2. **Loss Computation**:\n",
        "   - The difference between the predicted output and true labels is calculated using the loss function.\n",
        "3. **Backward Pass (Backpropagation)**:\n",
        "   - Gradients of the loss with respect to weights and biases are computed layer by layer (chain rule).\n",
        "4. **Weight Updates**:\n",
        "   - The optimizer updates the weights using the gradients and the learning rate.\n"
      ],
      "metadata": {
        "id": "aNL975drQ-GS"
      }
    },
    {
      "cell_type": "code",
      "source": [
        "import matplotlib.pyplot as plt\n",
        "\n",
        "# Assuming history.history contains the loss and accuracy data\n",
        "plt.figure(figsize=(12, 6))\n",
        "\n",
        "# Plot the training loss\n",
        "plt.subplot(1, 2, 1)\n",
        "plt.plot(history.history['loss'], label='Training Loss', color='blue')\n",
        "plt.plot(history.history['val_loss'], label='Validation Loss', color='red')\n",
        "plt.title('Training vs Validation Loss')\n",
        "plt.xlabel('Epochs')\n",
        "plt.ylabel('Loss')\n",
        "plt.legend()\n",
        "\n",
        "# Plot the training accuracy\n",
        "plt.subplot(1, 2, 2)\n",
        "plt.plot(history.history['accuracy'], label='Training Accuracy', color='blue')\n",
        "plt.plot(history.history['val_accuracy'], label='Validation Accuracy', color='red')\n",
        "plt.title('Training vs Validation Accuracy')\n",
        "plt.xlabel('Epochs')\n",
        "plt.ylabel('Accuracy')\n",
        "plt.legend()\n",
        "\n",
        "plt.tight_layout()\n",
        "plt.show()\n"
      ],
      "metadata": {
        "colab": {
          "base_uri": "https://localhost:8080/",
          "height": 607
        },
        "id": "TTQ8dvJQR8kK",
        "outputId": "93bf101e-70cf-4d0f-a353-de3e5e5beda5"
      },
      "execution_count": 7,
      "outputs": [
        {
          "output_type": "display_data",
          "data": {
            "text/plain": [
              "<Figure size 1200x600 with 2 Axes>"
            ],
            "image/png": "[encoded data removed]"
          },
          "metadata": {}
        }
      ]
    },
    {
      "cell_type": "markdown",
      "source": [
        "### Plotting the Training and Validation Loss Curve\n",
        "\n",
        "In this section, we will plot the training and validation loss over the epochs, as well as the training and validation accuracy.\n",
        "\n",
        "1. **Training Loss (blue)**: This curve shows how the model's loss decreases over time while it is learning on the training data.\n",
        "2. **Validation Loss (red)**: This curve tracks the model's performance on unseen data during training. Ideally, we want the validation loss to decrease along with the training loss, indicating that the model is generalizing well.\n",
        "3. **Training Accuracy (blue)**: This shows how accurate the model is on the training data over the epochs. Accuracy typically increases as the model learns.\n",
        "4. **Validation Accuracy (red)**: This shows how well the model performs on the validation dataset. We want the validation accuracy to increase as the model generalizes better.\n",
        "\n",
        "In this plot, we use two subplots:\n",
        "- The first subplot shows the loss curves for both training and validation data.\n",
        "- The second subplot shows the accuracy curves for both training and validation data.\n",
        "\n",
        "The `tight_layout()` function is used to prevent overlapping of the subplots, and `show()` renders the plot.\n"
      ],
      "metadata": {
        "id": "5nA-7WHASdbu"
      }
    },
    {
      "cell_type": "markdown",
      "source": [
        "# **4. Evaluate the Model**"
      ],
      "metadata": {
        "id": "A3vfJsR7RIQk"
      }
    },
    {
      "cell_type": "code",
      "source": [
        "# Evaluate on validation data\n",
        "val_loss, val_accuracy = model.evaluate(X_val, y_val, verbose=0)\n",
        "print(f\"Validation Loss: {val_loss:.4f}\")\n",
        "print(f\"Validation Accuracy: {val_accuracy:.4f}\")\n"
      ],
      "metadata": {
        "colab": {
          "base_uri": "https://localhost:8080/"
        },
        "id": "Z-zZjjWnQbvm",
        "outputId": "543ef751-51d4-4f4c-9502-07a36cec5222"
      },
      "execution_count": 6,
      "outputs": [
        {
          "output_type": "stream",
          "name": "stdout",
          "text": [
            "Validation Loss: 0.6390\n",
            "Validation Accuracy: 0.8250\n"
          ]
        }
      ]
    },
    {
      "cell_type": "code",
      "source": [
        "from sklearn.metrics import confusion_matrix\n",
        "import seaborn as sns\n",
        "import numpy as np\n",
        "\n",
        "# Assuming y_test is the true labels and y_pred is the predicted labels from the model\n",
        "y_pred = model.predict(X_val)\n",
        "y_pred_classes = np.argmax(y_pred, axis=1)  # Convert predictions to class labels\n",
        "y_true = np.argmax(y_val, axis=1)  # True class labels\n",
        "\n",
        "# Compute confusion matrix\n",
        "cm = confusion_matrix(y_true, y_pred_classes)\n",
        "\n",
        "# Plot the confusion matrix\n",
        "plt.figure(figsize=(8, 6))\n",
        "sns.heatmap(cm, annot=True, fmt='d', cmap='Blues', xticklabels=['Class 0', 'Class 1', 'Class 2'], yticklabels=['Class 0', 'Class 1', 'Class 2'])\n",
        "plt.title('Confusion Matrix')\n",
        "plt.xlabel('Predicted')\n",
        "plt.ylabel('True')\n",
        "plt.show()\n"
      ],
      "metadata": {
        "colab": {
          "base_uri": "https://localhost:8080/",
          "height": 581
        },
        "id": "WpW23XbGSAyW",
        "outputId": "005b3d3a-3947-4778-83c4-9b97038eb4e5"
      },
      "execution_count": 9,
      "outputs": [
        {
          "output_type": "stream",
          "name": "stdout",
          "text": [
            "\u001b[1m7/7\u001b[0m \u001b[32m━━━━━━━━━━━━━━━━━━━━\u001b[0m\u001b[37m\u001b[0m \u001b[1m0s\u001b[0m 8ms/step \n"
          ]
        },
        {
          "output_type": "display_data",
          "data": {
            "text/plain": [
              "<Figure size 800x600 with 2 Axes>"
            ],
            "image/png": "[encoded data removed]"
          },
          "metadata": {}
        }
      ]
    },
    {
      "cell_type": "markdown",
      "source": [
        "### Plotting a Confusion Matrix\n",
        "\n",
        "After training the neural network model, it's crucial to assess its performance on the test dataset. One effective way to evaluate a classification model is by using a **confusion matrix**.\n",
        "\n",
        "1. **Confusion Matrix**: This matrix shows the number of correct and incorrect predictions, broken down by each class. The matrix is a 2D table where:\n",
        "   - **Rows** represent the true labels (actual classes).\n",
        "   - **Columns** represent the predicted labels (model's output).\n",
        "   - The diagonal elements represent the number of correct predictions for each class.\n",
        "   - Off-diagonal elements indicate misclassifications.\n",
        "\n",
        "In the code:\n",
        "- `np.argmax()` is used to get the predicted and true class labels for the confusion matrix.\n",
        "- `confusion_matrix()` computes the confusion matrix from the true and predicted labels.\n",
        "- We use `seaborn` to create a heatmap of the confusion matrix for better visualization, with annotations for the actual counts.\n",
        "\n",
        "The heatmap will display:\n",
        "- Blue shades for each cell, with darker shades indicating higher counts.\n",
        "- The class names ('Class 0', 'Class 1', 'Class 2') are labeled on both axes for easy interpretation.\n",
        "\n",
        "This visualization helps identify areas where the model is making mistakes, such as misclassifying one class as another.\n"
      ],
      "metadata": {
        "id": "m9n32yb-SfGr"
      }
    },
    {
      "cell_type": "markdown",
      "source": [
        "### **Explanation**\n",
        "\n",
        "1. **Model Evaluation:**\n",
        "   - The trained model is tested on validation data to calculate the loss and accuracy.\n",
        "   - `val_loss` indicates how well the model generalizes to unseen data.\n",
        "   - `val_accuracy` represents the percentage of correct predictions.\n"
      ],
      "metadata": {
        "id": "B_GkaqocRVgu"
      }
    },
    {
      "cell_type": "markdown",
      "source": [
        "# **5. Advantages and Disadvantages**"
      ],
      "metadata": {
        "id": "yS8-Q_-bRXbo"
      }
    },
    {
      "cell_type": "markdown",
      "source": [
        "### **Advantages**\n",
        "1. Flexible architecture capable of learning complex patterns.\n",
        "2. Handles multi-class classification tasks efficiently.\n",
        "3. Regularization techniques like L2 prevent overfitting.\n",
        "\n",
        "### **Disadvantages**\n",
        "1. Prone to overfitting without regularization or sufficient data.\n",
        "2. Computationally expensive for large datasets and deeper architectures.\n",
        "3. Requires careful hyperparameter tuning (e.g., learning rate, batch size, etc.).\n"
      ],
      "metadata": {
        "id": "6dk9IsR9RZg2"
      }
    },
    {
      "cell_type": "markdown",
      "source": [
        "# **Conclusion**"
      ],
      "metadata": {
        "id": "6jJ2pPPvRbUd"
      }
    },
    {
      "cell_type": "markdown",
      "source": [
        "In this notebook, we:\n",
        "1. Designed a realistic multi-layer neural network.\n",
        "2. Generated synthetic data for a multi-class classification problem.\n",
        "3. Trained and evaluated the network using Keras.\n",
        "4. Discussed practical considerations like regularization and overfitting.\n",
        "\n",
        "This lays the foundation for more complex architectures like CNNs and RNNs.\n"
      ],
      "metadata": {
        "id": "kPF9cfS4RfWF"
      }
    },
    {
      "cell_type": "code",
      "source": [],
      "metadata": {
        "id": "11NDexGCQbyB"
      },
      "execution_count": null,
      "outputs": []
    },
    {
      "cell_type": "code",
      "source": [],
      "metadata": {
        "id": "5i4HO2TXQb01"
      },
      "execution_count": null,
      "outputs": []
    }
  ]
}