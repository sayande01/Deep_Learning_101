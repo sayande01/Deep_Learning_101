{
  "nbformat": 4,
  "nbformat_minor": 0,
  "metadata": {
    "colab": {
      "provenance": []
    },
    "kernelspec": {
      "name": "python3",
      "display_name": "Python 3"
    },
    "language_info": {
      "name": "python"
    }
  },
  "cells": [
    {
      "cell_type": "markdown",
      "source": [
        "# **Title: Regularization Techniques in Deep Learning**"
      ],
      "metadata": {
        "id": "MIFaUqrt9io-"
      }
    },
    {
      "cell_type": "code",
      "source": [
        "\n",
        "import pandas as pd\n",
        "import numpy as np\n",
        "import matplotlib.pyplot as plt\n",
        "import seaborn as sns\n",
        "import warnings\n",
        "warnings.filterwarnings('ignore')\n",
        "color_pal = sns.color_palette()\n",
        "plt.style.use('fivethirtyeight')\n"
      ],
      "metadata": {
        "id": "yTf8v36F-uER"
      },
      "execution_count": 2,
      "outputs": []
    },
    {
      "cell_type": "markdown",
      "source": [
        "# **Objective**\n",
        "\n",
        "The objective of this notebook is to:\n",
        "\n",
        "1. Understand the concept of regularization and its importance in preventing overfitting.\n",
        "\n",
        "2. Learn the mathematical intuition behind L1/L2 regularization, Dropout, and Batch Normalization.\n",
        "\n",
        "3. Implement these techniques in Keras and analyze their effects on model performance.\n",
        "\n",
        "4. Visualize the impact of regularization using plots and interpret the results."
      ],
      "metadata": {
        "id": "pyaqMJw89sQA"
      }
    },
    {
      "cell_type": "markdown",
      "source": [
        "# **Notebook Contents**\n",
        "\n",
        "1. Concept of Regularization\n",
        "\n",
        "2. Mathematical Intuition\n",
        "\n",
        "3. Code Implementation\n",
        "\n",
        "4. L2 Regularization\n",
        "\n",
        "5. Dropout\n",
        "\n",
        "6. Batch Normalization\n",
        "\n",
        "7. Advantages and Disadvantages\n",
        "\n",
        "8. Plots and Interpretation\n",
        "\n",
        "9. Conclusion"
      ],
      "metadata": {
        "id": "Nn2WGSFC90Cm"
      }
    },
    {
      "cell_type": "markdown",
      "source": [
        "# **Concept of Regularization**\n",
        "\n",
        "Regularization is a set of techniques used to prevent overfitting in deep learning models. Overfitting occurs when a model learns the training data too well, including its noise and outliers, which harms its performance on unseen data. Regularization techniques help the model generalize better.\n",
        "\n",
        "**Common Regularization Techniques**\n",
        "1. L1/L2 Regularization: Adds a penalty to the loss function based on the magnitude of the weights.\n",
        "\n",
        "2. Dropout: Randomly drops neurons during training to prevent co-adaptation.\n",
        "\n",
        "3. Batch Normalization: Normalizes the output of a layer to stabilize and speed up training."
      ],
      "metadata": {
        "id": "eV52ujks-CRp"
      }
    },
    {
      "cell_type": "markdown",
      "source": [
        "# **2. Mathematical Intuition**"
      ],
      "metadata": {
        "id": "bvMHF69H-NaM"
      }
    },
    {
      "cell_type": "markdown",
      "source": [
        "**L1 Regularization**\n",
        "\n",
        "The L1 penalty is the sum of the absolute values of the weights:"
      ],
      "metadata": {
        "id": "KHIbY4NL-Qpc"
      }
    },
    {
      "cell_type": "markdown",
      "source": [
        "L1 = lambda * sum(|w_i|)"
      ],
      "metadata": {
        "id": "xx6N6rBK-TnS"
      }
    },
    {
      "cell_type": "markdown",
      "source": [
        "where:\n",
        "\n",
        "lambda is the regularization parameter.\n",
        "\n",
        "w_i are the weights.\n",
        "\n",
        "**L2 Regularization**\n",
        "\n",
        "The L2 penalty is the sum of the squared values of the weights:"
      ],
      "metadata": {
        "id": "f2i6eJLV-VdR"
      }
    },
    {
      "cell_type": "markdown",
      "source": [
        "L2 = lambda * sum(w_i^2)"
      ],
      "metadata": {
        "id": "gYajh8Os-Y9b"
      }
    },
    {
      "cell_type": "markdown",
      "source": [
        "**Gradients for L1/L2**\n",
        "\n",
        "L1 Gradient: d(L1)/d(w_i) = lambda * sign(w_i)\n",
        "\n",
        "L2 Gradient: d(L2)/d(w_i) = 2 * lambda * w_i\n",
        "\n",
        "**Dropout**\n",
        "\n",
        "During training, dropout randomly sets a fraction (rate) of the neurons to zero. This prevents the model from relying too much on specific neurons.\n",
        "\n",
        "**Batch Normalization**\n",
        "\n",
        "BatchNorm normalizes the output of a layer by adjusting and scaling the activations:"
      ],
      "metadata": {
        "id": "UXnUPzoF-bQ0"
      }
    },
    {
      "cell_type": "markdown",
      "source": [
        "normalized_output = (output - mean) / sqrt(variance + epsilon)"
      ],
      "metadata": {
        "id": "hgpznqTg-hIw"
      }
    },
    {
      "cell_type": "markdown",
      "source": [
        "where epsilon is a small constant for numerical stability."
      ],
      "metadata": {
        "id": "BOljSLyD-ja9"
      }
    },
    {
      "cell_type": "markdown",
      "source": [
        "# **3. Code Implementation**"
      ],
      "metadata": {
        "id": "UBzySA5a-lEy"
      }
    },
    {
      "cell_type": "code",
      "source": [
        "from tensorflow.keras import Sequential\n",
        "from tensorflow.keras.layers import Dense\n",
        "from tensorflow.keras.regularizers import l2\n",
        "\n",
        "# Create a model with L2 regularization\n",
        "model = Sequential([\n",
        "    Dense(64, activation='relu', kernel_regularizer=l2(0.01), input_shape=(100,)),\n",
        "    Dense(64, activation='relu', kernel_regularizer=l2(0.01)),\n",
        "    Dense(10, activation='softmax')\n",
        "])\n",
        "\n",
        "model.compile(optimizer='adam', loss='categorical_crossentropy', metrics=['accuracy'])\n",
        "model.summary()"
      ],
      "metadata": {
        "colab": {
          "base_uri": "https://localhost:8080/",
          "height": 225
        },
        "id": "PEEZmyjJ9vNe",
        "outputId": "1836c865-8ad0-4733-b646-c8d8aca19b62"
      },
      "execution_count": 3,
      "outputs": [
        {
          "output_type": "display_data",
          "data": {
            "text/plain": [
              "\u001b[1mModel: \"sequential_1\"\u001b[0m\n"
            ],
            "text/html": [
              "<pre style=\"white-space:pre;overflow-x:auto;line-height:normal;font-family:Menlo,'DejaVu Sans Mono',consolas,'Courier New',monospace\"><span style=\"font-weight: bold\">Model: \"sequential_1\"</span>\n",
              "</pre>\n"
            ]
          },
          "metadata": {}
        },
        {
          "output_type": "display_data",
          "data": {
            "text/plain": [
              "┏━━━━━━━━━━━━━━━━━━━━━━━━━━━━━━━━━━━━━━┳━━━━━━━━━━━━━━━━━━━━━━━━━━━━━┳━━━━━━━━━━━━━━━━━┓\n",
              "┃\u001b[1m \u001b[0m\u001b[1mLayer (type)                        \u001b[0m\u001b[1m \u001b[0m┃\u001b[1m \u001b[0m\u001b[1mOutput Shape               \u001b[0m\u001b[1m \u001b[0m┃\u001b[1m \u001b[0m\u001b[1m        Param #\u001b[0m\u001b[1m \u001b[0m┃\n",
              "┡━━━━━━━━━━━━━━━━━━━━━━━━━━━━━━━━━━━━━━╇━━━━━━━━━━━━━━━━━━━━━━━━━━━━━╇━━━━━━━━━━━━━━━━━┩\n",
              "│ dense_3 (\u001b[38;5;33mDense\u001b[0m)                      │ (\u001b[38;5;45mNone\u001b[0m, \u001b[38;5;34m64\u001b[0m)                  │           \u001b[38;5;34m6,464\u001b[0m │\n",
              "├──────────────────────────────────────┼─────────────────────────────┼─────────────────┤\n",
              "│ dense_4 (\u001b[38;5;33mDense\u001b[0m)                      │ (\u001b[38;5;45mNone\u001b[0m, \u001b[38;5;34m64\u001b[0m)                  │           \u001b[38;5;34m4,160\u001b[0m │\n",
              "├──────────────────────────────────────┼─────────────────────────────┼─────────────────┤\n",
              "│ dense_5 (\u001b[38;5;33mDense\u001b[0m)                      │ (\u001b[38;5;45mNone\u001b[0m, \u001b[38;5;34m10\u001b[0m)                  │             \u001b[38;5;34m650\u001b[0m │\n",
              "└──────────────────────────────────────┴─────────────────────────────┴─────────────────┘\n"
            ],
            "text/html": [
              "<pre style=\"white-space:pre;overflow-x:auto;line-height:normal;font-family:Menlo,'DejaVu Sans Mono',consolas,'Courier New',monospace\">┏━━━━━━━━━━━━━━━━━━━━━━━━━━━━━━━━━━━━━━┳━━━━━━━━━━━━━━━━━━━━━━━━━━━━━┳━━━━━━━━━━━━━━━━━┓\n",
              "┃<span style=\"font-weight: bold\"> Layer (type)                         </span>┃<span style=\"font-weight: bold\"> Output Shape                </span>┃<span style=\"font-weight: bold\">         Param # </span>┃\n",
              "┡━━━━━━━━━━━━━━━━━━━━━━━━━━━━━━━━━━━━━━╇━━━━━━━━━━━━━━━━━━━━━━━━━━━━━╇━━━━━━━━━━━━━━━━━┩\n",
              "│ dense_3 (<span style=\"color: #0087ff; text-decoration-color: #0087ff\">Dense</span>)                      │ (<span style=\"color: #00d7ff; text-decoration-color: #00d7ff\">None</span>, <span style=\"color: #00af00; text-decoration-color: #00af00\">64</span>)                  │           <span style=\"color: #00af00; text-decoration-color: #00af00\">6,464</span> │\n",
              "├──────────────────────────────────────┼─────────────────────────────┼─────────────────┤\n",
              "│ dense_4 (<span style=\"color: #0087ff; text-decoration-color: #0087ff\">Dense</span>)                      │ (<span style=\"color: #00d7ff; text-decoration-color: #00d7ff\">None</span>, <span style=\"color: #00af00; text-decoration-color: #00af00\">64</span>)                  │           <span style=\"color: #00af00; text-decoration-color: #00af00\">4,160</span> │\n",
              "├──────────────────────────────────────┼─────────────────────────────┼─────────────────┤\n",
              "│ dense_5 (<span style=\"color: #0087ff; text-decoration-color: #0087ff\">Dense</span>)                      │ (<span style=\"color: #00d7ff; text-decoration-color: #00d7ff\">None</span>, <span style=\"color: #00af00; text-decoration-color: #00af00\">10</span>)                  │             <span style=\"color: #00af00; text-decoration-color: #00af00\">650</span> │\n",
              "└──────────────────────────────────────┴─────────────────────────────┴─────────────────┘\n",
              "</pre>\n"
            ]
          },
          "metadata": {}
        },
        {
          "output_type": "display_data",
          "data": {
            "text/plain": [
              "\u001b[1m Total params: \u001b[0m\u001b[38;5;34m11,274\u001b[0m (44.04 KB)\n"
            ],
            "text/html": [
              "<pre style=\"white-space:pre;overflow-x:auto;line-height:normal;font-family:Menlo,'DejaVu Sans Mono',consolas,'Courier New',monospace\"><span style=\"font-weight: bold\"> Total params: </span><span style=\"color: #00af00; text-decoration-color: #00af00\">11,274</span> (44.04 KB)\n",
              "</pre>\n"
            ]
          },
          "metadata": {}
        },
        {
          "output_type": "display_data",
          "data": {
            "text/plain": [
              "\u001b[1m Trainable params: \u001b[0m\u001b[38;5;34m11,274\u001b[0m (44.04 KB)\n"
            ],
            "text/html": [
              "<pre style=\"white-space:pre;overflow-x:auto;line-height:normal;font-family:Menlo,'DejaVu Sans Mono',consolas,'Courier New',monospace\"><span style=\"font-weight: bold\"> Trainable params: </span><span style=\"color: #00af00; text-decoration-color: #00af00\">11,274</span> (44.04 KB)\n",
              "</pre>\n"
            ]
          },
          "metadata": {}
        },
        {
          "output_type": "display_data",
          "data": {
            "text/plain": [
              "\u001b[1m Non-trainable params: \u001b[0m\u001b[38;5;34m0\u001b[0m (0.00 B)\n"
            ],
            "text/html": [
              "<pre style=\"white-space:pre;overflow-x:auto;line-height:normal;font-family:Menlo,'DejaVu Sans Mono',consolas,'Courier New',monospace\"><span style=\"font-weight: bold\"> Non-trainable params: </span><span style=\"color: #00af00; text-decoration-color: #00af00\">0</span> (0.00 B)\n",
              "</pre>\n"
            ]
          },
          "metadata": {}
        }
      ]
    },
    {
      "cell_type": "markdown",
      "source": [
        "## **Code Explanation**\n",
        "\n",
        "### **Importing Necessary Libraries**\n",
        "1. `from tensorflow.keras import Sequential`:  \n",
        "   - Imports the `Sequential` class from TensorFlow's Keras API, used to build a linear stack of layers for a neural network.\n",
        "\n",
        "2. `from tensorflow.keras.layers import Dense`:  \n",
        "   - Imports the `Dense` layer, a fully connected neural network layer.\n",
        "\n",
        "3. `from tensorflow.keras.regularizers import l2`:  \n",
        "   - Imports the `l2` regularization function, which adds a penalty proportional to the square of the weights to the loss function to reduce overfitting.\n",
        "\n",
        "---\n",
        "\n",
        "### **Building the Sequential Model**\n",
        "4. `model = Sequential([...])`:  \n",
        "   - Initializes the `Sequential` model as a stack of layers.\n",
        "\n",
        "5. `Dense(64, activation='relu', kernel_regularizer=l2(0.01), input_shape=(100,))`:  \n",
        "   - Adds the first dense (fully connected) layer with:\n",
        "     - **64 neurons**\n",
        "     - **ReLU activation function** for introducing non-linearity.\n",
        "     - **L2 regularization** with a penalty factor of `0.01` to reduce overfitting.\n",
        "     - **Input shape** of `(100,)`, indicating 100 features in the input.\n",
        "\n",
        "6. `Dense(64, activation='relu', kernel_regularizer=l2(0.01))`:  \n",
        "   - Adds a second dense layer with:\n",
        "     - **64 neurons**\n",
        "     - **ReLU activation function**\n",
        "     - **L2 regularization** with the same penalty factor as the first layer.\n",
        "\n",
        "7. `Dense(10, activation='softmax')`:  \n",
        "   - Adds an output layer with:\n",
        "     - **10 neurons**, corresponding to 10 classes in the classification task.\n",
        "     - **Softmax activation function**, which converts the outputs to probabilities summing up to 1.\n",
        "\n",
        "---\n",
        "\n",
        "### **Compiling the Model**\n",
        "8. `model.compile(optimizer='adam', loss='categorical_crossentropy', metrics=['accuracy'])`:  \n",
        "   - Configures the model for training with:\n",
        "     - **Adam optimizer**, an adaptive gradient-based optimization algorithm.\n",
        "     - **Categorical cross-entropy loss**, used for multi-class classification tasks.\n",
        "     - **Accuracy metric**, to evaluate the performance during training and validation.\n",
        "\n",
        "---\n",
        "\n",
        "### **Model Summary**\n",
        "9. `model.summary()`:  \n",
        "   - Prints a summary of the model architecture, including the number of layers, parameters, and output shapes.\n"
      ],
      "metadata": {
        "id": "coAyzsuq_Uh9"
      }
    },
    {
      "cell_type": "markdown",
      "source": [
        "# **Dropout in Keras**"
      ],
      "metadata": {
        "id": "0CmWft2c_bOW"
      }
    },
    {
      "cell_type": "code",
      "source": [
        "from tensorflow.keras.layers import Dropout\n",
        "\n",
        "# Create a model with Dropout\n",
        "model = Sequential([\n",
        "    Dense(64, activation='relu', input_shape=(100,)),\n",
        "    Dropout(0.5),  # Dropout with 50% probability\n",
        "    Dense(64, activation='relu'),\n",
        "    Dropout(0.5),\n",
        "    Dense(10, activation='softmax')\n",
        "])\n",
        "\n",
        "model.compile(optimizer='adam', loss='categorical_crossentropy', metrics=['accuracy'])\n",
        "model.summary()"
      ],
      "metadata": {
        "colab": {
          "base_uri": "https://localhost:8080/",
          "height": 289
        },
        "id": "N4fL3q0e-na3",
        "outputId": "f32f79dc-b1b9-41e1-e9f3-bbf520175314"
      },
      "execution_count": 4,
      "outputs": [
        {
          "output_type": "display_data",
          "data": {
            "text/plain": [
              "\u001b[1mModel: \"sequential_2\"\u001b[0m\n"
            ],
            "text/html": [
              "<pre style=\"white-space:pre;overflow-x:auto;line-height:normal;font-family:Menlo,'DejaVu Sans Mono',consolas,'Courier New',monospace\"><span style=\"font-weight: bold\">Model: \"sequential_2\"</span>\n",
              "</pre>\n"
            ]
          },
          "metadata": {}
        },
        {
          "output_type": "display_data",
          "data": {
            "text/plain": [
              "┏━━━━━━━━━━━━━━━━━━━━━━━━━━━━━━━━━━━━━━┳━━━━━━━━━━━━━━━━━━━━━━━━━━━━━┳━━━━━━━━━━━━━━━━━┓\n",
              "┃\u001b[1m \u001b[0m\u001b[1mLayer (type)                        \u001b[0m\u001b[1m \u001b[0m┃\u001b[1m \u001b[0m\u001b[1mOutput Shape               \u001b[0m\u001b[1m \u001b[0m┃\u001b[1m \u001b[0m\u001b[1m        Param #\u001b[0m\u001b[1m \u001b[0m┃\n",
              "┡━━━━━━━━━━━━━━━━━━━━━━━━━━━━━━━━━━━━━━╇━━━━━━━━━━━━━━━━━━━━━━━━━━━━━╇━━━━━━━━━━━━━━━━━┩\n",
              "│ dense_6 (\u001b[38;5;33mDense\u001b[0m)                      │ (\u001b[38;5;45mNone\u001b[0m, \u001b[38;5;34m64\u001b[0m)                  │           \u001b[38;5;34m6,464\u001b[0m │\n",
              "├──────────────────────────────────────┼─────────────────────────────┼─────────────────┤\n",
              "│ dropout (\u001b[38;5;33mDropout\u001b[0m)                    │ (\u001b[38;5;45mNone\u001b[0m, \u001b[38;5;34m64\u001b[0m)                  │               \u001b[38;5;34m0\u001b[0m │\n",
              "├──────────────────────────────────────┼─────────────────────────────┼─────────────────┤\n",
              "│ dense_7 (\u001b[38;5;33mDense\u001b[0m)                      │ (\u001b[38;5;45mNone\u001b[0m, \u001b[38;5;34m64\u001b[0m)                  │           \u001b[38;5;34m4,160\u001b[0m │\n",
              "├──────────────────────────────────────┼─────────────────────────────┼─────────────────┤\n",
              "│ dropout_1 (\u001b[38;5;33mDropout\u001b[0m)                  │ (\u001b[38;5;45mNone\u001b[0m, \u001b[38;5;34m64\u001b[0m)                  │               \u001b[38;5;34m0\u001b[0m │\n",
              "├──────────────────────────────────────┼─────────────────────────────┼─────────────────┤\n",
              "│ dense_8 (\u001b[38;5;33mDense\u001b[0m)                      │ (\u001b[38;5;45mNone\u001b[0m, \u001b[38;5;34m10\u001b[0m)                  │             \u001b[38;5;34m650\u001b[0m │\n",
              "└──────────────────────────────────────┴─────────────────────────────┴─────────────────┘\n"
            ],
            "text/html": [
              "<pre style=\"white-space:pre;overflow-x:auto;line-height:normal;font-family:Menlo,'DejaVu Sans Mono',consolas,'Courier New',monospace\">┏━━━━━━━━━━━━━━━━━━━━━━━━━━━━━━━━━━━━━━┳━━━━━━━━━━━━━━━━━━━━━━━━━━━━━┳━━━━━━━━━━━━━━━━━┓\n",
              "┃<span style=\"font-weight: bold\"> Layer (type)                         </span>┃<span style=\"font-weight: bold\"> Output Shape                </span>┃<span style=\"font-weight: bold\">         Param # </span>┃\n",
              "┡━━━━━━━━━━━━━━━━━━━━━━━━━━━━━━━━━━━━━━╇━━━━━━━━━━━━━━━━━━━━━━━━━━━━━╇━━━━━━━━━━━━━━━━━┩\n",
              "│ dense_6 (<span style=\"color: #0087ff; text-decoration-color: #0087ff\">Dense</span>)                      │ (<span style=\"color: #00d7ff; text-decoration-color: #00d7ff\">None</span>, <span style=\"color: #00af00; text-decoration-color: #00af00\">64</span>)                  │           <span style=\"color: #00af00; text-decoration-color: #00af00\">6,464</span> │\n",
              "├──────────────────────────────────────┼─────────────────────────────┼─────────────────┤\n",
              "│ dropout (<span style=\"color: #0087ff; text-decoration-color: #0087ff\">Dropout</span>)                    │ (<span style=\"color: #00d7ff; text-decoration-color: #00d7ff\">None</span>, <span style=\"color: #00af00; text-decoration-color: #00af00\">64</span>)                  │               <span style=\"color: #00af00; text-decoration-color: #00af00\">0</span> │\n",
              "├──────────────────────────────────────┼─────────────────────────────┼─────────────────┤\n",
              "│ dense_7 (<span style=\"color: #0087ff; text-decoration-color: #0087ff\">Dense</span>)                      │ (<span style=\"color: #00d7ff; text-decoration-color: #00d7ff\">None</span>, <span style=\"color: #00af00; text-decoration-color: #00af00\">64</span>)                  │           <span style=\"color: #00af00; text-decoration-color: #00af00\">4,160</span> │\n",
              "├──────────────────────────────────────┼─────────────────────────────┼─────────────────┤\n",
              "│ dropout_1 (<span style=\"color: #0087ff; text-decoration-color: #0087ff\">Dropout</span>)                  │ (<span style=\"color: #00d7ff; text-decoration-color: #00d7ff\">None</span>, <span style=\"color: #00af00; text-decoration-color: #00af00\">64</span>)                  │               <span style=\"color: #00af00; text-decoration-color: #00af00\">0</span> │\n",
              "├──────────────────────────────────────┼─────────────────────────────┼─────────────────┤\n",
              "│ dense_8 (<span style=\"color: #0087ff; text-decoration-color: #0087ff\">Dense</span>)                      │ (<span style=\"color: #00d7ff; text-decoration-color: #00d7ff\">None</span>, <span style=\"color: #00af00; text-decoration-color: #00af00\">10</span>)                  │             <span style=\"color: #00af00; text-decoration-color: #00af00\">650</span> │\n",
              "└──────────────────────────────────────┴─────────────────────────────┴─────────────────┘\n",
              "</pre>\n"
            ]
          },
          "metadata": {}
        },
        {
          "output_type": "display_data",
          "data": {
            "text/plain": [
              "\u001b[1m Total params: \u001b[0m\u001b[38;5;34m11,274\u001b[0m (44.04 KB)\n"
            ],
            "text/html": [
              "<pre style=\"white-space:pre;overflow-x:auto;line-height:normal;font-family:Menlo,'DejaVu Sans Mono',consolas,'Courier New',monospace\"><span style=\"font-weight: bold\"> Total params: </span><span style=\"color: #00af00; text-decoration-color: #00af00\">11,274</span> (44.04 KB)\n",
              "</pre>\n"
            ]
          },
          "metadata": {}
        },
        {
          "output_type": "display_data",
          "data": {
            "text/plain": [
              "\u001b[1m Trainable params: \u001b[0m\u001b[38;5;34m11,274\u001b[0m (44.04 KB)\n"
            ],
            "text/html": [
              "<pre style=\"white-space:pre;overflow-x:auto;line-height:normal;font-family:Menlo,'DejaVu Sans Mono',consolas,'Courier New',monospace\"><span style=\"font-weight: bold\"> Trainable params: </span><span style=\"color: #00af00; text-decoration-color: #00af00\">11,274</span> (44.04 KB)\n",
              "</pre>\n"
            ]
          },
          "metadata": {}
        },
        {
          "output_type": "display_data",
          "data": {
            "text/plain": [
              "\u001b[1m Non-trainable params: \u001b[0m\u001b[38;5;34m0\u001b[0m (0.00 B)\n"
            ],
            "text/html": [
              "<pre style=\"white-space:pre;overflow-x:auto;line-height:normal;font-family:Menlo,'DejaVu Sans Mono',consolas,'Courier New',monospace\"><span style=\"font-weight: bold\"> Non-trainable params: </span><span style=\"color: #00af00; text-decoration-color: #00af00\">0</span> (0.00 B)\n",
              "</pre>\n"
            ]
          },
          "metadata": {}
        }
      ]
    },
    {
      "cell_type": "markdown",
      "source": [
        "## **Code Explanation**\n",
        "\n",
        "### **Importing Necessary Libraries**\n",
        "1. `from tensorflow.keras.layers import Dropout`:  \n",
        "   - Imports the `Dropout` layer, which is used to randomly set a fraction of input units to 0 during training to prevent overfitting.\n",
        "\n",
        "---\n",
        "\n",
        "### **Building the Sequential Model**\n",
        "2. `model = Sequential([...])`:  \n",
        "   - Initializes the `Sequential` model as a stack of layers.\n",
        "\n",
        "3. `Dense(64, activation='relu', input_shape=(100,))`:  \n",
        "   - Adds the first dense (fully connected) layer with:\n",
        "     - **64 neurons**\n",
        "     - **ReLU activation function**\n",
        "     - **Input shape** of `(100,)`, indicating 100 features in the input.\n",
        "\n",
        "4. `Dropout(0.5)`:  \n",
        "   - Adds a dropout layer with a **50% probability**, randomly dropping half of the input units to reduce overfitting.\n",
        "\n",
        "5. `Dense(64, activation='relu')`:  \n",
        "   - Adds a second dense layer with:\n",
        "     - **64 neurons**\n",
        "     - **ReLU activation function**.\n",
        "\n",
        "6. `Dropout(0.5)`:  \n",
        "   - Adds another dropout layer with the same **50% probability** as above.\n",
        "\n",
        "7. `Dense(10, activation='softmax')`:  \n",
        "   - Adds an output layer with:\n",
        "     - **10 neurons**, corresponding to 10 classes in the classification task.\n",
        "     - **Softmax activation function**, converting the outputs to probabilities summing to 1.\n",
        "\n",
        "---\n",
        "\n",
        "### **Compiling the Model**\n",
        "8. `model.compile(optimizer='adam', loss='categorical_crossentropy', metrics=['accuracy'])`:  \n",
        "   - Configures the model for training with:\n",
        "     - **Adam optimizer**, an adaptive gradient-based optimization algorithm.\n",
        "     - **Categorical cross-entropy loss**, used for multi-class classification tasks.\n",
        "     - **Accuracy metric**, to evaluate performance during training and validation.\n",
        "\n",
        "---\n",
        "\n",
        "### **Model Summary**\n",
        "9. `model.summary()`:  \n",
        "   - Prints a summary of the model architecture, including:\n",
        "     - The number of layers and their types.\n",
        "     - The number of trainable parameters.\n",
        "     - The output shapes for each layer.\n"
      ],
      "metadata": {
        "id": "esv_rUSy_gcg"
      }
    },
    {
      "cell_type": "markdown",
      "source": [
        "# **Batch Normalization in Keras**"
      ],
      "metadata": {
        "id": "B0QSI4PR_nZF"
      }
    },
    {
      "cell_type": "code",
      "source": [
        "from tensorflow.keras.layers import BatchNormalization\n",
        "\n",
        "# Create a model with Batch Normalization\n",
        "model = Sequential([\n",
        "    Dense(64, activation='relu', input_shape=(100,)),\n",
        "    BatchNormalization(),\n",
        "    Dense(64, activation='relu'),\n",
        "    BatchNormalization(),\n",
        "    Dense(10, activation='softmax')\n",
        "])\n",
        "\n",
        "model.compile(optimizer='adam', loss='categorical_crossentropy', metrics=['accuracy'])\n",
        "model.summary()"
      ],
      "metadata": {
        "colab": {
          "base_uri": "https://localhost:8080/",
          "height": 321
        },
        "id": "6_lGhwUJ_doV",
        "outputId": "c3158540-b6ba-4181-c83e-6e28547e0d00"
      },
      "execution_count": 5,
      "outputs": [
        {
          "output_type": "display_data",
          "data": {
            "text/plain": [
              "\u001b[1mModel: \"sequential_3\"\u001b[0m\n"
            ],
            "text/html": [
              "<pre style=\"white-space:pre;overflow-x:auto;line-height:normal;font-family:Menlo,'DejaVu Sans Mono',consolas,'Courier New',monospace\"><span style=\"font-weight: bold\">Model: \"sequential_3\"</span>\n",
              "</pre>\n"
            ]
          },
          "metadata": {}
        },
        {
          "output_type": "display_data",
          "data": {
            "text/plain": [
              "┏━━━━━━━━━━━━━━━━━━━━━━━━━━━━━━━━━━━━━━┳━━━━━━━━━━━━━━━━━━━━━━━━━━━━━┳━━━━━━━━━━━━━━━━━┓\n",
              "┃\u001b[1m \u001b[0m\u001b[1mLayer (type)                        \u001b[0m\u001b[1m \u001b[0m┃\u001b[1m \u001b[0m\u001b[1mOutput Shape               \u001b[0m\u001b[1m \u001b[0m┃\u001b[1m \u001b[0m\u001b[1m        Param #\u001b[0m\u001b[1m \u001b[0m┃\n",
              "┡━━━━━━━━━━━━━━━━━━━━━━━━━━━━━━━━━━━━━━╇━━━━━━━━━━━━━━━━━━━━━━━━━━━━━╇━━━━━━━━━━━━━━━━━┩\n",
              "│ dense_9 (\u001b[38;5;33mDense\u001b[0m)                      │ (\u001b[38;5;45mNone\u001b[0m, \u001b[38;5;34m64\u001b[0m)                  │           \u001b[38;5;34m6,464\u001b[0m │\n",
              "├──────────────────────────────────────┼─────────────────────────────┼─────────────────┤\n",
              "│ batch_normalization                  │ (\u001b[38;5;45mNone\u001b[0m, \u001b[38;5;34m64\u001b[0m)                  │             \u001b[38;5;34m256\u001b[0m │\n",
              "│ (\u001b[38;5;33mBatchNormalization\u001b[0m)                 │                             │                 │\n",
              "├──────────────────────────────────────┼─────────────────────────────┼─────────────────┤\n",
              "│ dense_10 (\u001b[38;5;33mDense\u001b[0m)                     │ (\u001b[38;5;45mNone\u001b[0m, \u001b[38;5;34m64\u001b[0m)                  │           \u001b[38;5;34m4,160\u001b[0m │\n",
              "├──────────────────────────────────────┼─────────────────────────────┼─────────────────┤\n",
              "│ batch_normalization_1                │ (\u001b[38;5;45mNone\u001b[0m, \u001b[38;5;34m64\u001b[0m)                  │             \u001b[38;5;34m256\u001b[0m │\n",
              "│ (\u001b[38;5;33mBatchNormalization\u001b[0m)                 │                             │                 │\n",
              "├──────────────────────────────────────┼─────────────────────────────┼─────────────────┤\n",
              "│ dense_11 (\u001b[38;5;33mDense\u001b[0m)                     │ (\u001b[38;5;45mNone\u001b[0m, \u001b[38;5;34m10\u001b[0m)                  │             \u001b[38;5;34m650\u001b[0m │\n",
              "└──────────────────────────────────────┴─────────────────────────────┴─────────────────┘\n"
            ],
            "text/html": [
              "<pre style=\"white-space:pre;overflow-x:auto;line-height:normal;font-family:Menlo,'DejaVu Sans Mono',consolas,'Courier New',monospace\">┏━━━━━━━━━━━━━━━━━━━━━━━━━━━━━━━━━━━━━━┳━━━━━━━━━━━━━━━━━━━━━━━━━━━━━┳━━━━━━━━━━━━━━━━━┓\n",
              "┃<span style=\"font-weight: bold\"> Layer (type)                         </span>┃<span style=\"font-weight: bold\"> Output Shape                </span>┃<span style=\"font-weight: bold\">         Param # </span>┃\n",
              "┡━━━━━━━━━━━━━━━━━━━━━━━━━━━━━━━━━━━━━━╇━━━━━━━━━━━━━━━━━━━━━━━━━━━━━╇━━━━━━━━━━━━━━━━━┩\n",
              "│ dense_9 (<span style=\"color: #0087ff; text-decoration-color: #0087ff\">Dense</span>)                      │ (<span style=\"color: #00d7ff; text-decoration-color: #00d7ff\">None</span>, <span style=\"color: #00af00; text-decoration-color: #00af00\">64</span>)                  │           <span style=\"color: #00af00; text-decoration-color: #00af00\">6,464</span> │\n",
              "├──────────────────────────────────────┼─────────────────────────────┼─────────────────┤\n",
              "│ batch_normalization                  │ (<span style=\"color: #00d7ff; text-decoration-color: #00d7ff\">None</span>, <span style=\"color: #00af00; text-decoration-color: #00af00\">64</span>)                  │             <span style=\"color: #00af00; text-decoration-color: #00af00\">256</span> │\n",
              "│ (<span style=\"color: #0087ff; text-decoration-color: #0087ff\">BatchNormalization</span>)                 │                             │                 │\n",
              "├──────────────────────────────────────┼─────────────────────────────┼─────────────────┤\n",
              "│ dense_10 (<span style=\"color: #0087ff; text-decoration-color: #0087ff\">Dense</span>)                     │ (<span style=\"color: #00d7ff; text-decoration-color: #00d7ff\">None</span>, <span style=\"color: #00af00; text-decoration-color: #00af00\">64</span>)                  │           <span style=\"color: #00af00; text-decoration-color: #00af00\">4,160</span> │\n",
              "├──────────────────────────────────────┼─────────────────────────────┼─────────────────┤\n",
              "│ batch_normalization_1                │ (<span style=\"color: #00d7ff; text-decoration-color: #00d7ff\">None</span>, <span style=\"color: #00af00; text-decoration-color: #00af00\">64</span>)                  │             <span style=\"color: #00af00; text-decoration-color: #00af00\">256</span> │\n",
              "│ (<span style=\"color: #0087ff; text-decoration-color: #0087ff\">BatchNormalization</span>)                 │                             │                 │\n",
              "├──────────────────────────────────────┼─────────────────────────────┼─────────────────┤\n",
              "│ dense_11 (<span style=\"color: #0087ff; text-decoration-color: #0087ff\">Dense</span>)                     │ (<span style=\"color: #00d7ff; text-decoration-color: #00d7ff\">None</span>, <span style=\"color: #00af00; text-decoration-color: #00af00\">10</span>)                  │             <span style=\"color: #00af00; text-decoration-color: #00af00\">650</span> │\n",
              "└──────────────────────────────────────┴─────────────────────────────┴─────────────────┘\n",
              "</pre>\n"
            ]
          },
          "metadata": {}
        },
        {
          "output_type": "display_data",
          "data": {
            "text/plain": [
              "\u001b[1m Total params: \u001b[0m\u001b[38;5;34m11,786\u001b[0m (46.04 KB)\n"
            ],
            "text/html": [
              "<pre style=\"white-space:pre;overflow-x:auto;line-height:normal;font-family:Menlo,'DejaVu Sans Mono',consolas,'Courier New',monospace\"><span style=\"font-weight: bold\"> Total params: </span><span style=\"color: #00af00; text-decoration-color: #00af00\">11,786</span> (46.04 KB)\n",
              "</pre>\n"
            ]
          },
          "metadata": {}
        },
        {
          "output_type": "display_data",
          "data": {
            "text/plain": [
              "\u001b[1m Trainable params: \u001b[0m\u001b[38;5;34m11,530\u001b[0m (45.04 KB)\n"
            ],
            "text/html": [
              "<pre style=\"white-space:pre;overflow-x:auto;line-height:normal;font-family:Menlo,'DejaVu Sans Mono',consolas,'Courier New',monospace\"><span style=\"font-weight: bold\"> Trainable params: </span><span style=\"color: #00af00; text-decoration-color: #00af00\">11,530</span> (45.04 KB)\n",
              "</pre>\n"
            ]
          },
          "metadata": {}
        },
        {
          "output_type": "display_data",
          "data": {
            "text/plain": [
              "\u001b[1m Non-trainable params: \u001b[0m\u001b[38;5;34m256\u001b[0m (1.00 KB)\n"
            ],
            "text/html": [
              "<pre style=\"white-space:pre;overflow-x:auto;line-height:normal;font-family:Menlo,'DejaVu Sans Mono',consolas,'Courier New',monospace\"><span style=\"font-weight: bold\"> Non-trainable params: </span><span style=\"color: #00af00; text-decoration-color: #00af00\">256</span> (1.00 KB)\n",
              "</pre>\n"
            ]
          },
          "metadata": {}
        }
      ]
    },
    {
      "cell_type": "markdown",
      "source": [
        "## **Code Explanation**\n",
        "\n",
        "### **Importing Necessary Libraries**\n",
        "1. `from tensorflow.keras.layers import BatchNormalization`:  \n",
        "   - Imports the `BatchNormalization` layer, which normalizes the activations of the previous layer during training to improve convergence and stabilize learning.\n",
        "\n",
        "---\n",
        "\n",
        "### **Building the Sequential Model**\n",
        "2. `model = Sequential([...])`:  \n",
        "   - Initializes the `Sequential` model as a stack of layers.\n",
        "\n",
        "3. `Dense(64, activation='relu', input_shape=(100,))`:  \n",
        "   - Adds the first dense (fully connected) layer with:\n",
        "     - **64 neurons**\n",
        "     - **ReLU activation function**\n",
        "     - **Input shape** of `(100,)`, indicating 100 features in the input.\n",
        "\n",
        "4. `BatchNormalization()`:  \n",
        "   - Adds a batch normalization layer that:\n",
        "     - Normalizes the activations from the previous dense layer.\n",
        "     - Maintains learnable parameters for mean and variance during training.\n",
        "\n",
        "5. `Dense(64, activation='relu')`:  \n",
        "   - Adds a second dense layer with:\n",
        "     - **64 neurons**\n",
        "     - **ReLU activation function**.\n",
        "\n",
        "6. `BatchNormalization()`:  \n",
        "   - Adds another batch normalization layer after the second dense layer to further stabilize and speed up learning.\n",
        "\n",
        "7. `Dense(10, activation='softmax')`:  \n",
        "   - Adds an output layer with:\n",
        "     - **10 neurons**, corresponding to 10 classes in the classification task.\n",
        "     - **Softmax activation function**, converting the outputs to probabilities summing to 1.\n",
        "\n",
        "---\n",
        "\n",
        "### **Compiling the Model**\n",
        "8. `model.compile(optimizer='adam', loss='categorical_crossentropy', metrics=['accuracy'])`:  \n",
        "   - Configures the model for training with:\n",
        "     - **Adam optimizer**, an adaptive gradient-based optimization algorithm.\n",
        "     - **Categorical cross-entropy loss**, used for multi-class classification tasks.\n",
        "     - **Accuracy metric**, to evaluate performance during training and validation.\n",
        "\n",
        "---\n",
        "\n",
        "### **Model Summary**\n",
        "9. `model.summary()`:  \n",
        "   - Prints a summary of the model architecture, including:\n",
        "     - The number of layers and their types.\n",
        "     - The number of trainable parameters.\n",
        "     - The output shapes for each layer.\n"
      ],
      "metadata": {
        "id": "BEqpjMUk_teC"
      }
    },
    {
      "cell_type": "markdown",
      "source": [
        "**4. Advantages and Disadvantages**\n",
        "\n",
        "**Advantages**\n",
        "\n",
        "1. Reduces Overfitting: Regularization techniques help the model generalize better to unseen data.\n",
        "\n",
        "2. Improves Model Performance: By preventing overfitting, regularization often leads to better performance on validation/test data.\n",
        "\n",
        "3. Encourages Simpler Models: L1 regularization can lead to sparse models, which are easier to interpret.\n",
        "\n",
        "**Disadvantages**\n",
        "\n",
        "1. Increases Training Complexity: Regularization adds additional computations during training.\n",
        "\n",
        "2. Hyperparameter Tuning: The regularization parameter lambda needs to be carefully tuned.\n",
        "\n",
        "3. Dropout Slows Training: Dropout increases training time as it requires more epochs to converge.\n",
        "\n"
      ],
      "metadata": {
        "id": "2j5tEnah_1wh"
      }
    },
    {
      "cell_type": "markdown",
      "source": [
        "# **5. Plots and Interpretation**"
      ],
      "metadata": {
        "id": "AyKA4KLWAFw3"
      }
    },
    {
      "cell_type": "markdown",
      "source": [
        "**Plot 1: Training vs Validation Loss (With and Without Regularization)**"
      ],
      "metadata": {
        "id": "q7siAURMAILp"
      }
    },
    {
      "cell_type": "code",
      "source": [
        "import numpy as np\n",
        "import tensorflow as tf\n",
        "from tensorflow.keras.models import Sequential\n",
        "from tensorflow.keras.layers import Dense, Dropout\n",
        "from tensorflow.keras.regularizers import l2\n",
        "import matplotlib.pyplot as plt\n",
        "from sklearn.datasets import make_classification\n",
        "from sklearn.model_selection import train_test_split\n",
        "from sklearn.preprocessing import StandardScaler\n",
        "\n",
        "# Generate classification dataset\n",
        "X, y = make_classification(\n",
        "    n_samples=1000, n_features=10, n_informative=8,\n",
        "    n_redundant=2, n_classes=2, random_state=42\n",
        ")\n",
        "\n",
        "# Split the data\n",
        "X_train, X_val, y_train, y_val = train_test_split(X, y, test_size=0.2, random_state=42)\n",
        "\n",
        "# Scale the data\n",
        "scaler = StandardScaler()\n",
        "X_train = scaler.fit_transform(X_train)\n",
        "X_val = scaler.transform(X_val)\n",
        "\n",
        "# Model without regularization\n",
        "model_without_reg = Sequential([\n",
        "    Dense(64, activation='relu', input_shape=(10,)),\n",
        "    Dense(32, activation='relu'),\n",
        "    Dense(1, activation='sigmoid')\n",
        "])\n",
        "\n",
        "model_without_reg.compile(optimizer='adam', loss='binary_crossentropy', metrics=['accuracy'])\n",
        "\n",
        "# Model with L2 regularization\n",
        "model_with_reg = Sequential([\n",
        "    Dense(64, activation='relu', kernel_regularizer=l2(0.01), input_shape=(10,)),\n",
        "    Dropout(0.5),  # Adding dropout for regularization\n",
        "    Dense(32, activation='relu', kernel_regularizer=l2(0.01)),\n",
        "    Dropout(0.5),\n",
        "    Dense(1, activation='sigmoid')\n",
        "])\n",
        "\n",
        "model_with_reg.compile(optimizer='adam', loss='binary_crossentropy', metrics=['accuracy'])\n",
        "\n",
        "# Train both models\n",
        "history_without_reg = model_without_reg.fit(\n",
        "    X_train, y_train,\n",
        "    validation_data=(X_val, y_val),\n",
        "    epochs=20,\n",
        "    batch_size=32,\n",
        "    verbose=1\n",
        ")\n",
        "\n",
        "history_with_reg = model_with_reg.fit(\n",
        "    X_train, y_train,\n",
        "    validation_data=(X_val, y_val),\n",
        "    epochs=20,\n",
        "    batch_size=32,\n",
        "    verbose=1\n",
        ")\n",
        "\n",
        "# Plot training vs validation loss\n",
        "plt.figure(figsize=(10, 6))\n",
        "plt.plot(history_without_reg.history['loss'], label='Training Loss (No Regularization)')\n",
        "plt.plot(history_without_reg.history['val_loss'], label='Validation Loss (No Regularization)')\n",
        "plt.plot(history_with_reg.history['loss'], label='Training Loss (With Regularization)')\n",
        "plt.plot(history_with_reg.history['val_loss'], label='Validation Loss (With Regularization)')\n",
        "plt.title('Training vs Validation Loss (With and Without Regularization)', fontsize=14)\n",
        "plt.xlabel('Epochs', fontsize=12)\n",
        "plt.ylabel('Loss', fontsize=12)\n",
        "plt.legend(fontsize=10)\n",
        "plt.grid()\n",
        "plt.show()\n"
      ],
      "metadata": {
        "colab": {
          "base_uri": "https://localhost:8080/",
          "height": 1000
        },
        "id": "RqMBm8DM_qqy",
        "outputId": "f293c6d8-364d-47df-cc8b-7ab1c73852bb"
      },
      "execution_count": 8,
      "outputs": [
        {
          "output_type": "stream",
          "name": "stdout",
          "text": [
            "Epoch 1/20\n",
            "\u001b[1m25/25\u001b[0m \u001b[32m━━━━━━━━━━━━━━━━━━━━\u001b[0m\u001b[37m\u001b[0m \u001b[1m3s\u001b[0m 21ms/step - accuracy: 0.5619 - loss: 0.6752 - val_accuracy: 0.7000 - val_loss: 0.6098\n",
            "Epoch 2/20\n",
            "\u001b[1m25/25\u001b[0m \u001b[32m━━━━━━━━━━━━━━━━━━━━\u001b[0m\u001b[37m\u001b[0m \u001b[1m0s\u001b[0m 10ms/step - accuracy: 0.7976 - loss: 0.5656 - val_accuracy: 0.7700 - val_loss: 0.5519\n",
            "Epoch 3/20\n",
            "\u001b[1m25/25\u001b[0m \u001b[32m━━━━━━━━━━━━━━━━━━━━\u001b[0m\u001b[37m\u001b[0m \u001b[1m0s\u001b[0m 3ms/step - accuracy: 0.8442 - loss: 0.4743 - val_accuracy: 0.7850 - val_loss: 0.4994\n",
            "Epoch 4/20\n",
            "\u001b[1m25/25\u001b[0m \u001b[32m━━━━━━━━━━━━━━━━━━━━\u001b[0m\u001b[37m\u001b[0m \u001b[1m0s\u001b[0m 5ms/step - accuracy: 0.8513 - loss: 0.4359 - val_accuracy: 0.8150 - val_loss: 0.4507\n",
            "Epoch 5/20\n",
            "\u001b[1m25/25\u001b[0m \u001b[32m━━━━━━━━━━━━━━━━━━━━\u001b[0m\u001b[37m\u001b[0m \u001b[1m0s\u001b[0m 3ms/step - accuracy: 0.8850 - loss: 0.3587 - val_accuracy: 0.8350 - val_loss: 0.4150\n",
            "Epoch 6/20\n",
            "\u001b[1m25/25\u001b[0m \u001b[32m━━━━━━━━━━━━━━━━━━━━\u001b[0m\u001b[37m\u001b[0m \u001b[1m0s\u001b[0m 4ms/step - accuracy: 0.8925 - loss: 0.3304 - val_accuracy: 0.8550 - val_loss: 0.3716\n",
            "Epoch 7/20\n",
            "\u001b[1m25/25\u001b[0m \u001b[32m━━━━━━━━━━━━━━━━━━━━\u001b[0m\u001b[37m\u001b[0m \u001b[1m0s\u001b[0m 3ms/step - accuracy: 0.9013 - loss: 0.2866 - val_accuracy: 0.8700 - val_loss: 0.3435\n",
            "Epoch 8/20\n",
            "\u001b[1m25/25\u001b[0m \u001b[32m━━━━━━━━━━━━━━━━━━━━\u001b[0m\u001b[37m\u001b[0m \u001b[1m0s\u001b[0m 4ms/step - accuracy: 0.9044 - loss: 0.2723 - val_accuracy: 0.8900 - val_loss: 0.3263\n",
            "Epoch 9/20\n",
            "\u001b[1m25/25\u001b[0m \u001b[32m━━━━━━━━━━━━━━━━━━━━\u001b[0m\u001b[37m\u001b[0m \u001b[1m0s\u001b[0m 3ms/step - accuracy: 0.9280 - loss: 0.2274 - val_accuracy: 0.8850 - val_loss: 0.3055\n",
            "Epoch 10/20\n",
            "\u001b[1m25/25\u001b[0m \u001b[32m━━━━━━━━━━━━━━━━━━━━\u001b[0m\u001b[37m\u001b[0m \u001b[1m0s\u001b[0m 3ms/step - accuracy: 0.9342 - loss: 0.2062 - val_accuracy: 0.8900 - val_loss: 0.2909\n",
            "Epoch 11/20\n",
            "\u001b[1m25/25\u001b[0m \u001b[32m━━━━━━━━━━━━━━━━━━━━\u001b[0m\u001b[37m\u001b[0m \u001b[1m0s\u001b[0m 3ms/step - accuracy: 0.9315 - loss: 0.2072 - val_accuracy: 0.8900 - val_loss: 0.2749\n",
            "Epoch 12/20\n",
            "\u001b[1m25/25\u001b[0m \u001b[32m━━━━━━━━━━━━━━━━━━━━\u001b[0m\u001b[37m\u001b[0m \u001b[1m0s\u001b[0m 3ms/step - accuracy: 0.9418 - loss: 0.1825 - val_accuracy: 0.9050 - val_loss: 0.2700\n",
            "Epoch 13/20\n",
            "\u001b[1m25/25\u001b[0m \u001b[32m━━━━━━━━━━━━━━━━━━━━\u001b[0m\u001b[37m\u001b[0m \u001b[1m0s\u001b[0m 3ms/step - accuracy: 0.9443 - loss: 0.1957 - val_accuracy: 0.9050 - val_loss: 0.2611\n",
            "Epoch 14/20\n",
            "\u001b[1m25/25\u001b[0m \u001b[32m━━━━━━━━━━━━━━━━━━━━\u001b[0m\u001b[37m\u001b[0m \u001b[1m0s\u001b[0m 3ms/step - accuracy: 0.9421 - loss: 0.1782 - val_accuracy: 0.9050 - val_loss: 0.2577\n",
            "Epoch 15/20\n",
            "\u001b[1m25/25\u001b[0m \u001b[32m━━━━━━━━━━━━━━━━━━━━\u001b[0m\u001b[37m\u001b[0m \u001b[1m0s\u001b[0m 3ms/step - accuracy: 0.9447 - loss: 0.1708 - val_accuracy: 0.9050 - val_loss: 0.2465\n",
            "Epoch 16/20\n",
            "\u001b[1m25/25\u001b[0m \u001b[32m━━━━━━━━━━━━━━━━━━━━\u001b[0m\u001b[37m\u001b[0m \u001b[1m0s\u001b[0m 3ms/step - accuracy: 0.9350 - loss: 0.1706 - val_accuracy: 0.9050 - val_loss: 0.2490\n",
            "Epoch 17/20\n",
            "\u001b[1m25/25\u001b[0m \u001b[32m━━━━━━━━━━━━━━━━━━━━\u001b[0m\u001b[37m\u001b[0m \u001b[1m0s\u001b[0m 3ms/step - accuracy: 0.9459 - loss: 0.1520 - val_accuracy: 0.9100 - val_loss: 0.2468\n",
            "Epoch 18/20\n",
            "\u001b[1m25/25\u001b[0m \u001b[32m━━━━━━━━━━━━━━━━━━━━\u001b[0m\u001b[37m\u001b[0m \u001b[1m0s\u001b[0m 3ms/step - accuracy: 0.9560 - loss: 0.1302 - val_accuracy: 0.9100 - val_loss: 0.2358\n",
            "Epoch 19/20\n",
            "\u001b[1m25/25\u001b[0m \u001b[32m━━━━━━━━━━━━━━━━━━━━\u001b[0m\u001b[37m\u001b[0m \u001b[1m0s\u001b[0m 3ms/step - accuracy: 0.9518 - loss: 0.1485 - val_accuracy: 0.9050 - val_loss: 0.2432\n",
            "Epoch 20/20\n",
            "\u001b[1m25/25\u001b[0m \u001b[32m━━━━━━━━━━━━━━━━━━━━\u001b[0m\u001b[37m\u001b[0m \u001b[1m0s\u001b[0m 3ms/step - accuracy: 0.9452 - loss: 0.1455 - val_accuracy: 0.9050 - val_loss: 0.2378\n",
            "Epoch 1/20\n",
            "\u001b[1m25/25\u001b[0m \u001b[32m━━━━━━━━━━━━━━━━━━━━\u001b[0m\u001b[37m\u001b[0m \u001b[1m2s\u001b[0m 10ms/step - accuracy: 0.4731 - loss: 1.3778 - val_accuracy: 0.6550 - val_loss: 1.2015\n",
            "Epoch 2/20\n",
            "\u001b[1m25/25\u001b[0m \u001b[32m━━━━━━━━━━━━━━━━━━━━\u001b[0m\u001b[37m\u001b[0m \u001b[1m0s\u001b[0m 3ms/step - accuracy: 0.5391 - loss: 1.2284 - val_accuracy: 0.7550 - val_loss: 1.1061\n",
            "Epoch 3/20\n",
            "\u001b[1m25/25\u001b[0m \u001b[32m━━━━━━━━━━━━━━━━━━━━\u001b[0m\u001b[37m\u001b[0m \u001b[1m0s\u001b[0m 3ms/step - accuracy: 0.5935 - loss: 1.1521 - val_accuracy: 0.7650 - val_loss: 1.0260\n",
            "Epoch 4/20\n",
            "\u001b[1m25/25\u001b[0m \u001b[32m━━━━━━━━━━━━━━━━━━━━\u001b[0m\u001b[37m\u001b[0m \u001b[1m0s\u001b[0m 3ms/step - accuracy: 0.6695 - loss: 1.0292 - val_accuracy: 0.7600 - val_loss: 0.9645\n",
            "Epoch 5/20\n",
            "\u001b[1m25/25\u001b[0m \u001b[32m━━━━━━━━━━━━━━━━━━━━\u001b[0m\u001b[37m\u001b[0m \u001b[1m0s\u001b[0m 3ms/step - accuracy: 0.6851 - loss: 0.9780 - val_accuracy: 0.7600 - val_loss: 0.9084\n",
            "Epoch 6/20\n",
            "\u001b[1m25/25\u001b[0m \u001b[32m━━━━━━━━━━━━━━━━━━━━\u001b[0m\u001b[37m\u001b[0m \u001b[1m0s\u001b[0m 4ms/step - accuracy: 0.6741 - loss: 0.9485 - val_accuracy: 0.7850 - val_loss: 0.8665\n",
            "Epoch 7/20\n",
            "\u001b[1m25/25\u001b[0m \u001b[32m━━━━━━━━━━━━━━━━━━━━\u001b[0m\u001b[37m\u001b[0m \u001b[1m0s\u001b[0m 3ms/step - accuracy: 0.7293 - loss: 0.8883 - val_accuracy: 0.8050 - val_loss: 0.8267\n",
            "Epoch 8/20\n",
            "\u001b[1m25/25\u001b[0m \u001b[32m━━━━━━━━━━━━━━━━━━━━\u001b[0m\u001b[37m\u001b[0m \u001b[1m0s\u001b[0m 3ms/step - accuracy: 0.7423 - loss: 0.8344 - val_accuracy: 0.8100 - val_loss: 0.7904\n",
            "Epoch 9/20\n",
            "\u001b[1m25/25\u001b[0m \u001b[32m━━━━━━━━━━━━━━━━━━━━\u001b[0m\u001b[37m\u001b[0m \u001b[1m0s\u001b[0m 3ms/step - accuracy: 0.7468 - loss: 0.8294 - val_accuracy: 0.8100 - val_loss: 0.7533\n",
            "Epoch 10/20\n",
            "\u001b[1m25/25\u001b[0m \u001b[32m━━━━━━━━━━━━━━━━━━━━\u001b[0m\u001b[37m\u001b[0m \u001b[1m0s\u001b[0m 3ms/step - accuracy: 0.7871 - loss: 0.7513 - val_accuracy: 0.7950 - val_loss: 0.7245\n",
            "Epoch 11/20\n",
            "\u001b[1m25/25\u001b[0m \u001b[32m━━━━━━━━━━━━━━━━━━━━\u001b[0m\u001b[37m\u001b[0m \u001b[1m0s\u001b[0m 3ms/step - accuracy: 0.8160 - loss: 0.6960 - val_accuracy: 0.7950 - val_loss: 0.6988\n",
            "Epoch 12/20\n",
            "\u001b[1m25/25\u001b[0m \u001b[32m━━━━━━━━━━━━━━━━━━━━\u001b[0m\u001b[37m\u001b[0m \u001b[1m0s\u001b[0m 3ms/step - accuracy: 0.8065 - loss: 0.7115 - val_accuracy: 0.8050 - val_loss: 0.6709\n",
            "Epoch 13/20\n",
            "\u001b[1m25/25\u001b[0m \u001b[32m━━━━━━━━━━━━━━━━━━━━\u001b[0m\u001b[37m\u001b[0m \u001b[1m0s\u001b[0m 4ms/step - accuracy: 0.7772 - loss: 0.6692 - val_accuracy: 0.8350 - val_loss: 0.6455\n",
            "Epoch 14/20\n",
            "\u001b[1m25/25\u001b[0m \u001b[32m━━━━━━━━━━━━━━━━━━━━\u001b[0m\u001b[37m\u001b[0m \u001b[1m0s\u001b[0m 5ms/step - accuracy: 0.8044 - loss: 0.6501 - val_accuracy: 0.8300 - val_loss: 0.6256\n",
            "Epoch 15/20\n",
            "\u001b[1m25/25\u001b[0m \u001b[32m━━━━━━━━━━━━━━━━━━━━\u001b[0m\u001b[37m\u001b[0m \u001b[1m0s\u001b[0m 5ms/step - accuracy: 0.8229 - loss: 0.6307 - val_accuracy: 0.8400 - val_loss: 0.6123\n",
            "Epoch 16/20\n",
            "\u001b[1m25/25\u001b[0m \u001b[32m━━━━━━━━━━━━━━━━━━━━\u001b[0m\u001b[37m\u001b[0m \u001b[1m0s\u001b[0m 5ms/step - accuracy: 0.8403 - loss: 0.5901 - val_accuracy: 0.8550 - val_loss: 0.5874\n",
            "Epoch 17/20\n",
            "\u001b[1m25/25\u001b[0m \u001b[32m━━━━━━━━━━━━━━━━━━━━\u001b[0m\u001b[37m\u001b[0m \u001b[1m0s\u001b[0m 5ms/step - accuracy: 0.8411 - loss: 0.6097 - val_accuracy: 0.8450 - val_loss: 0.5686\n",
            "Epoch 18/20\n",
            "\u001b[1m25/25\u001b[0m \u001b[32m━━━━━━━━━━━━━━━━━━━━\u001b[0m\u001b[37m\u001b[0m \u001b[1m0s\u001b[0m 5ms/step - accuracy: 0.8653 - loss: 0.5493 - val_accuracy: 0.8500 - val_loss: 0.5521\n",
            "Epoch 19/20\n",
            "\u001b[1m25/25\u001b[0m \u001b[32m━━━━━━━━━━━━━━━━━━━━\u001b[0m\u001b[37m\u001b[0m \u001b[1m0s\u001b[0m 6ms/step - accuracy: 0.8244 - loss: 0.5812 - val_accuracy: 0.8650 - val_loss: 0.5350\n",
            "Epoch 20/20\n",
            "\u001b[1m25/25\u001b[0m \u001b[32m━━━━━━━━━━━━━━━━━━━━\u001b[0m\u001b[37m\u001b[0m \u001b[1m0s\u001b[0m 6ms/step - accuracy: 0.8404 - loss: 0.5587 - val_accuracy: 0.8800 - val_loss: 0.5215\n"
          ]
        },
        {
          "output_type": "display_data",
          "data": {
            "text/plain": [
              "<Figure size 1000x600 with 1 Axes>"
            ],
            "image/png": "[encoded data removed]"
          },
          "metadata": {}
        }
      ]
    },
    {
      "cell_type": "markdown",
      "source": [
        "**Interpretation**\n",
        "\n",
        "### **No Regularization (Blue and Red lines):**\n",
        "1. **Training Loss (Blue Line):**\n",
        "   - The training loss decreases steadily and reaches a very low value, indicating that the model is fitting the training data well.\n",
        "   - However, this suggests that the model might overfit since it focuses heavily on minimizing training loss without accounting for validation performance.\n",
        "\n",
        "2. **Validation Loss (Red Line):**\n",
        "   - The validation loss decreases initially but stabilizes after a few epochs. While it doesn’t increase drastically (a sign of severe overfitting), the gap between training and validation loss suggests moderate overfitting.\n",
        "\n",
        "---\n",
        "\n",
        "### **With Regularization (Green and Yellow lines):**\n",
        "1. **Training Loss (Green Line):**\n",
        "   - The training loss is higher compared to the model without regularization. This is expected because regularization introduces a penalty to prevent overfitting, making the model less focused on perfectly fitting the training data.\n",
        "\n",
        "2. **Validation Loss (Yellow Line):**\n",
        "   - The validation loss follows a similar trend to the training loss and is closer to it compared to the no-regularization case. This indicates that regularization helps the model generalize better, reducing overfitting.\n",
        "\n",
        "---\n",
        "\n",
        "### **Key Observations:**\n",
        "1. **Regularization Improves Generalization:**\n",
        "   - The gap between training and validation loss is smaller for the regularized model, showing better generalization to unseen data.\n",
        "\n",
        "2. **Trade-off Between Training Performance and Generalization:**\n",
        "   - The regularized model sacrifices some training performance (higher training loss) to achieve better validation performance and robustness.\n",
        "\n",
        "3. **Validation Loss Stabilization:**\n",
        "   - For the regularized model, validation loss stabilizes more smoothly compared to the non-regularized one, indicating a more controlled and robust learning process.\n",
        "\n",
        "---\n",
        "\n",
        "### **Conclusion:**\n",
        "- The **regularized model** is likely the better choice for real-world applications where generalization is critical.\n",
        "- The **non-regularized model** might work well for training data but risks overfitting and poor performance on unseen data."
      ],
      "metadata": {
        "id": "dUF23vcdCmly"
      }
    },
    {
      "cell_type": "code",
      "source": [],
      "metadata": {
        "id": "2lMb-5ZFAKKW"
      },
      "execution_count": null,
      "outputs": []
    }
  ]
}